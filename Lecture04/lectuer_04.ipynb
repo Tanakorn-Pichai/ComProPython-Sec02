{
 "cells": [
  {
   "cell_type": "markdown",
   "metadata": {},
   "source": [
    "REPETITION STRUCTURE"
   ]
  },
  {
   "cell_type": "code",
   "execution_count": 1,
   "metadata": {},
   "outputs": [
    {
     "name": "stdout",
     "output_type": "stream",
     "text": [
      "The commission is $ 4,000.00\n",
      "The commission is $ 5,500.00\n",
      "The commission is $ 8,325.00\n"
     ]
    }
   ],
   "source": [
    "sales =  float(input('Enter the amount of sales: '))\n",
    "comm_rate = float(input('Enter the commission rate: '))\n",
    "commission = sales * comm_rate\n",
    "print('The commission is $',format(commission,',.2f')) \n",
    "\n",
    "sales =  float(input('Enter the amount of sales: '))\n",
    "comm_rate = float(input('Enter the commission rate: '))\n",
    "commission = sales * comm_rate\n",
    "print('The commission is $',format(commission,',.2f')) \n",
    "\n",
    "sales =  float(input('Enter the amount of sales: '))\n",
    "comm_rate = float(input('Enter the commission rate: '))\n",
    "commission = sales * comm_rate\n",
    "print('The commission is $',format(commission,',.2f')) "
   ]
  },
  {
   "cell_type": "markdown",
   "metadata": {},
   "source": [
    "for"
   ]
  },
  {
   "cell_type": "code",
   "execution_count": 2,
   "metadata": {},
   "outputs": [
    {
     "name": "stdout",
     "output_type": "stream",
     "text": [
      "I  will display the numbers 1 through 5.\n",
      "1\n",
      "2\n",
      "3\n",
      "4\n",
      "5\n"
     ]
    }
   ],
   "source": [
    "print('I  will display the numbers 1 through 5.')\n",
    "for num in[1,2,3,4,5]:\n",
    "    print(num)\n"
   ]
  },
  {
   "cell_type": "code",
   "execution_count": 11,
   "metadata": {},
   "outputs": [
    {
     "name": "stdout",
     "output_type": "stream",
     "text": [
      "apple\n",
      "banana\n",
      "cherry\n"
     ]
    }
   ],
   "source": [
    "fruits = [\"apple\", \"banana\", \"cherry\"]\n",
    "for fruit in fruits:\n",
    "    print(fruit)"
   ]
  },
  {
   "cell_type": "code",
   "execution_count": 7,
   "metadata": {},
   "outputs": [
    {
     "name": "stdout",
     "output_type": "stream",
     "text": [
      "Moified string:  **********\n"
     ]
    }
   ],
   "source": [
    "input_string = input(\"Enter a string: \")\n",
    "\n",
    "moified_string = \" \"\n",
    "\n",
    "vowels = \"aeiouAEIOU\"\n",
    "\n",
    "for char in input_string:\n",
    "    upper_char = char.upper()\n",
    "\n",
    "    if upper_char in vowels:\n",
    "        moified_string += \"*\"\n",
    "    else:\n",
    "        moified_string += upper_char\n",
    "print(\"Moified string:\", moified_string)"
   ]
  },
  {
   "cell_type": "code",
   "execution_count": 8,
   "metadata": {},
   "outputs": [
    {
     "name": "stdout",
     "output_type": "stream",
     "text": [
      "0\n",
      "1\n",
      "2\n",
      "3\n",
      "4\n"
     ]
    }
   ],
   "source": [
    "for i in range(5):\n",
    "    print(i)"
   ]
  },
  {
   "cell_type": "code",
   "execution_count": 9,
   "metadata": {},
   "outputs": [
    {
     "name": "stdout",
     "output_type": "stream",
     "text": [
      "3\n",
      "4\n",
      "5\n",
      "6\n",
      "7\n",
      "8\n",
      "9\n"
     ]
    }
   ],
   "source": [
    "for i in range(3, 10):\n",
    "    print(i)"
   ]
  },
  {
   "cell_type": "code",
   "execution_count": 10,
   "metadata": {},
   "outputs": [
    {
     "name": "stdout",
     "output_type": "stream",
     "text": [
      "1\n",
      "3\n",
      "5\n",
      "7\n",
      "9\n"
     ]
    }
   ],
   "source": [
    "for i in range(1, 11, 2):\n",
    "    print(i)"
   ]
  },
  {
   "cell_type": "code",
   "execution_count": 12,
   "metadata": {},
   "outputs": [
    {
     "name": "stdout",
     "output_type": "stream",
     "text": [
      "Number\tSquare\n",
      "--------------\n",
      "1 \t 1\n",
      "2 \t 4\n",
      "3 \t 9\n",
      "4 \t 16\n",
      "5 \t 25\n",
      "6 \t 36\n",
      "7 \t 49\n",
      "8 \t 64\n",
      "9 \t 81\n",
      "10 \t 100\n"
     ]
    }
   ],
   "source": [
    "print('Number\\tSquare')\n",
    "print('--------------')\n",
    "\n",
    "for number in range(1, 11):\n",
    "    square = number**2\n",
    "    print(number,'\\t', square)"
   ]
  },
  {
   "cell_type": "markdown",
   "metadata": {},
   "source": [
    "while"
   ]
  },
  {
   "cell_type": "code",
   "execution_count": 13,
   "metadata": {},
   "outputs": [
    {
     "name": "stdout",
     "output_type": "stream",
     "text": [
      "Hello :  0\n",
      "Hello :  1\n",
      "Hello :  2\n",
      "Hello :  3\n",
      "Hello :  4\n"
     ]
    }
   ],
   "source": [
    "count = 0\n",
    "while count < 5:\n",
    "    print(\"Hello : \" , count)\n",
    "    count += 1"
   ]
  },
  {
   "cell_type": "code",
   "execution_count": null,
   "metadata": {},
   "outputs": [],
   "source": [
    "while True:\n",
    "    print(\"This is an infinite loop. \")"
   ]
  },
  {
   "cell_type": "code",
   "execution_count": 1,
   "metadata": {},
   "outputs": [
    {
     "name": "stdout",
     "output_type": "stream",
     "text": [
      "The commission is $ 1,625.00\n"
     ]
    }
   ],
   "source": [
    "keep_going  = 'y'\n",
    "\n",
    "while keep_going == 'y':\n",
    "    sales =  float(input('Enter the amount of sales: '))\n",
    "    comm_rate = float(input('Enter the commission rate: '))\n",
    "\n",
    "    commission = sales * comm_rate\n",
    "\n",
    "    print('The commission is $',format(commission,',.2f')) \n",
    "\n",
    "    keep_going = input(\"DO you want to calculate another\" + \\\n",
    "                       \" commission (Enter y for yes): \")"
   ]
  },
  {
   "cell_type": "code",
   "execution_count": null,
   "metadata": {},
   "outputs": [],
   "source": [
    "keep_going  = 'y'\n",
    "\n",
    "while keep_going == 'y':\n",
    "    item =  float(input(\"Enter the item's wholesale cost: \"))\n",
    "    price = item * 2.5\n",
    "\n",
    "    print('Retail price $',format(price,',.2f')) \n",
    "\n",
    "    keep_going = input(\"DO you have another item?\" + \\\n",
    "                       \" (Enter y for yes): \")"
   ]
  },
  {
   "cell_type": "code",
   "execution_count": 6,
   "metadata": {},
   "outputs": [
    {
     "name": "stdout",
     "output_type": "stream",
     "text": [
      "**********\n",
      "**********\n",
      "**********\n",
      "**********\n",
      "**********\n"
     ]
    }
   ],
   "source": [
    "input_rows =  int(input(\"How many rows ? \"))\n",
    "input_columns = int(input(\"How many columns? \"))\n",
    "for i in range(input_rows):\n",
    "    print('*' * input_columns)"
   ]
  },
  {
   "cell_type": "code",
   "execution_count": 7,
   "metadata": {},
   "outputs": [
    {
     "name": "stdout",
     "output_type": "stream",
     "text": [
      "**********\n",
      "**********\n",
      "**********\n",
      "**********\n",
      "**********\n"
     ]
    }
   ],
   "source": [
    "input_rows =  int(input(\"How many rows ? \"))\n",
    "input_columns = int(input(\"How many columns? \"))\n",
    "i = 0\n",
    "while i < input_rows:\n",
    "    print('*' * input_columns)\n",
    "    i += 1"
   ]
  },
  {
   "cell_type": "code",
   "execution_count": 9,
   "metadata": {},
   "outputs": [
    {
     "name": "stdout",
     "output_type": "stream",
     "text": [
      "**********\n",
      "**********\n",
      "**********\n",
      "**********\n",
      "**********\n"
     ]
    }
   ],
   "source": [
    "input_rows =  int(input(\"How many rows ? \"))\n",
    "input_columns = int(input(\"How many columns? \"))\n",
    "i = 0\n",
    "while i < input_rows:\n",
    "    print('*' * input_columns)\n",
    "    i += 1"
   ]
  },
  {
   "cell_type": "code",
   "execution_count": 8,
   "metadata": {},
   "outputs": [
    {
     "name": "stdout",
     "output_type": "stream",
     "text": [
      "What is my magic number (1 to 100)?\n",
      "--> too low\n",
      "--> too low\n",
      "--> too low\n",
      "--> too low\n",
      "--> too low\n",
      "you last chance\n",
      "--> too low\n",
      "Sorry! My number is 57\n"
     ]
    }
   ],
   "source": [
    "import random\n",
    "\n",
    "print(\"What is my magic number (1 to 100)?\")\n",
    "mynumber = random.randint(1, 100)\n",
    "ntries = 1\n",
    "yourguess = -1\n",
    "\n",
    "while ntries < 7 and yourguess != mynumber:\n",
    "    msg = str(ntries) + \">> \"\n",
    "    if ntries == 6:\n",
    "        print(\"you last chance\")\n",
    "    yourguess = int(input(msg))\n",
    "    if yourguess > mynumber:\n",
    "        print(\"--> too high\")\n",
    "    elif yourguess < mynumber:\n",
    "        print(\"--> too low\")\n",
    "    ntries += 1\n",
    "\n",
    "if yourguess == mynumber:\n",
    "    print(\"Yes! It's\", mynumber)\n",
    "else:\n",
    "    print(\"Sorry! My number is\", mynumber)"
   ]
  },
  {
   "cell_type": "markdown",
   "metadata": {},
   "source": [
    "break, continue, pass"
   ]
  },
  {
   "cell_type": "code",
   "execution_count": 11,
   "metadata": {},
   "outputs": [
    {
     "name": "stdout",
     "output_type": "stream",
     "text": [
      "Current Letter : a\n",
      "Current Letter : n\n",
      "Current Letter : a\n",
      "Current Letter : k\n",
      "Current Letter : o\n",
      "Current Letter : r\n",
      "Current Letter : n\n",
      "Current Letter :  \n",
      "Current Letter : i\n",
      "Current Letter : c\n",
      "Current Letter : h\n",
      "Current Letter : a\n",
      "Current Letter : i\n"
     ]
    }
   ],
   "source": [
    "for letter in 'Tanakorn Pichai':\n",
    "    if letter == 'r' or letter =='P':\n",
    "        continue\n",
    "    print ('Current Letter :' , letter)\n"
   ]
  },
  {
   "cell_type": "code",
   "execution_count": 12,
   "metadata": {},
   "outputs": [
    {
     "name": "stdout",
     "output_type": "stream",
     "text": [
      "Current Letter : T\n",
      "Current Letter : a\n",
      "Current Letter : n\n",
      "Current Letter : a\n",
      "Current Letter : k\n",
      "Current Letter : o\n"
     ]
    }
   ],
   "source": [
    "for letter in 'Tanakorn Pichai':\n",
    "    if letter == 'r' or letter =='P':\n",
    "        break\n",
    "    print ('Current Letter :' , letter)"
   ]
  },
  {
   "cell_type": "code",
   "execution_count": 13,
   "metadata": {},
   "outputs": [
    {
     "name": "stdout",
     "output_type": "stream",
     "text": [
      "Current Letter : T\n",
      "Current Letter : a\n",
      "Current Letter : n\n",
      "Current Letter : a\n",
      "Current Letter : k\n",
      "Current Letter : o\n",
      "Current Letter : r\n",
      "Current Letter : n\n",
      "Current Letter :  \n",
      "Current Letter : P\n",
      "Current Letter : i\n",
      "Current Letter : c\n",
      "Current Letter : h\n",
      "Current Letter : a\n",
      "Current Letter : i\n"
     ]
    }
   ],
   "source": [
    "for letter in 'Tanakorn Pichai':\n",
    "    if letter == 'r' or letter =='P':\n",
    "        pass\n",
    "    print ('Current Letter :' , letter)"
   ]
  },
  {
   "cell_type": "markdown",
   "metadata": {},
   "source": [
    "CALCULATING RUNNING TOTAL"
   ]
  },
  {
   "cell_type": "code",
   "execution_count": 14,
   "metadata": {},
   "outputs": [
    {
     "name": "stdout",
     "output_type": "stream",
     "text": [
      "6\n",
      "11\n",
      "14\n",
      "22\n",
      "26\n",
      "28\n",
      "33\n",
      "37\n",
      "48\n",
      "The sum is 48\n"
     ]
    }
   ],
   "source": [
    "numbers = [6, 5, 3, 8, 4, 2, 5, 4, 11]\n",
    "\n",
    "sum = 0\n",
    "\n",
    "for val in numbers:\n",
    "    sum += val\n",
    "    print(sum)  \n",
    "\n",
    "print(\"The sum is\", sum)"
   ]
  },
  {
   "cell_type": "code",
   "execution_count": null,
   "metadata": {},
   "outputs": [],
   "source": []
  }
 ],
 "metadata": {
  "kernelspec": {
   "display_name": "Python 3",
   "language": "python",
   "name": "python3"
  },
  "language_info": {
   "codemirror_mode": {
    "name": "ipython",
    "version": 3
   },
   "file_extension": ".py",
   "mimetype": "text/x-python",
   "name": "python",
   "nbconvert_exporter": "python",
   "pygments_lexer": "ipython3",
   "version": "3.11.0"
  }
 },
 "nbformat": 4,
 "nbformat_minor": 2
}
