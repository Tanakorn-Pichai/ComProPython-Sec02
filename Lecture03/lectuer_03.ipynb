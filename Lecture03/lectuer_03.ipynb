{
 "cells": [
  {
   "cell_type": "markdown",
   "metadata": {},
   "source": [
    "IF STATEMENTS"
   ]
  },
  {
   "cell_type": "code",
   "execution_count": null,
   "metadata": {},
   "outputs": [],
   "source": [
    "age = int (input(\"Please input age: \"))\n",
    "if age >= 18 :\n",
    "    print(\"You are an adult .\")"
   ]
  },
  {
   "cell_type": "markdown",
   "metadata": {},
   "source": [
    "ELIF STATEMENTS"
   ]
  },
  {
   "cell_type": "code",
   "execution_count": 5,
   "metadata": {},
   "outputs": [
    {
     "name": "stdout",
     "output_type": "stream",
     "text": [
      "This is a large company\n"
     ]
    }
   ],
   "source": [
    "num_employees = int(input(\"Enter the number of employees :\"))\n",
    "\n",
    "if num_employees < 50 :\n",
    "    print(\"This is a small company\")\n",
    "elif num_employees < 250 :\n",
    "    print(\"This is a medium-sized company\")\n",
    "elif num_employees >= 250 :\n",
    "    print(\"This is a large company\")"
   ]
  },
  {
   "cell_type": "code",
   "execution_count": 8,
   "metadata": {},
   "outputs": [
    {
     "name": "stdout",
     "output_type": "stream",
     "text": [
      "Grade: D or F\n"
     ]
    }
   ],
   "source": [
    "score = float(input(\"Enter your grade :\"))\n",
    "if score >= 90 :\n",
    "    print (\"Grade: A\")\n",
    "elif score >= 80:\n",
    "     print (\"Grade: B\")\n",
    "elif score >= 70:\n",
    "     print (\"Grade: c\")\n",
    "else:\n",
    "     print (\"Grade: D or F\")"
   ]
  },
  {
   "cell_type": "markdown",
   "metadata": {},
   "source": [
    "IF-ELIF-ELSE STATEMENT"
   ]
  },
  {
   "cell_type": "code",
   "execution_count": null,
   "metadata": {},
   "outputs": [],
   "source": [
    "tmperature = 30 \n",
    "if tmperature > 30:\n",
    "    print(\"It's hot outside\")\n",
    "elif tmperature > 20:\n",
    "    print(\"The weather is nice\")\n",
    "else:\n",
    "    print(\"It's cold outside\")"
   ]
  },
  {
   "cell_type": "code",
   "execution_count": 13,
   "metadata": {},
   "outputs": [
    {
     "name": "stdout",
     "output_type": "stream",
     "text": [
      "It's not a letter or number *****\n"
     ]
    }
   ],
   "source": [
    "inchar = input(\"Input one character: \")\n",
    "if inchar >= 'A' and inchar <= 'Z':\n",
    "    print(\"You in put Upper Case Letter\" , inchar)\n",
    "elif inchar >= 'a' and inchar <= 'z':\n",
    "    print(\"You in put Lower Case Letter\" , inchar)\n",
    "elif inchar >= '0' and inchar <= '9':\n",
    "    print(\"You in put Number\" , inchar)\n",
    "else :\n",
    "    print(\"It's not a letter or number\" , inchar)\n"
   ]
  },
  {
   "cell_type": "code",
   "execution_count": 22,
   "metadata": {},
   "outputs": [
    {
     "name": "stdout",
     "output_type": "stream",
     "text": [
      "Positive number\n"
     ]
    }
   ],
   "source": [
    "num =  float(input(\"Enter a number: \"))\n",
    "if num > 0:\n",
    "    print(\"Positive number\")\n",
    "elif num == 0:\n",
    "    print(\"Zero\")\n",
    "else:\n",
    "    print(\"Negative number\")\n"
   ]
  },
  {
   "cell_type": "code",
   "execution_count": 21,
   "metadata": {},
   "outputs": [
    {
     "name": "stdout",
     "output_type": "stream",
     "text": [
      "Positive number\n"
     ]
    }
   ],
   "source": [
    "\n",
    "num =  float(input(\"Enter a number: \"))\n",
    "if num >= 0:\n",
    "    if num == 0:\n",
    "        print(\"Zero\")\n",
    "    else:    \n",
    "        print(\"Positive number\")\n",
    "else:\n",
    "    print(\"Negative number\")"
   ]
  },
  {
   "cell_type": "markdown",
   "metadata": {},
   "source": [
    "Comparison operators"
   ]
  },
  {
   "cell_type": "code",
   "execution_count": 23,
   "metadata": {},
   "outputs": [
    {
     "name": "stdout",
     "output_type": "stream",
     "text": [
      "False\n",
      "True\n",
      "False\n",
      "True\n",
      "False\n",
      "True\n"
     ]
    }
   ],
   "source": [
    "x = 10\n",
    "y = 20\n",
    "print(x == y)\n",
    "print(x != y)\n",
    "print(x > y)\n",
    "print(x < y)\n",
    "print(x >= y)\n",
    "print(x <= y)"
   ]
  },
  {
   "cell_type": "markdown",
   "metadata": {},
   "source": [
    "STRING COMPARISON"
   ]
  },
  {
   "cell_type": "code",
   "execution_count": 24,
   "metadata": {},
   "outputs": [
    {
     "name": "stdout",
     "output_type": "stream",
     "text": [
      "\"Mary\"and \"Mark\" are not equal .\n",
      "\"Mary\" comes after \"Mark\" is lexicographical order  .\n",
      "\"Mary\"and \"Mark\" are not equal  when case is igonred .\n"
     ]
    }
   ],
   "source": [
    "string1 = \"Mary\"\n",
    "string2 = \"Mark\"\n",
    "\n",
    "if string1 == string2:\n",
    "    print(f'\"{string1}\"and \"{string2}\" are equal .')\n",
    "else :\n",
    "     print(f'\"{string1}\"and \"{string2}\" are not equal .')\n",
    "\n",
    "if string1 < string2:\n",
    "    print(f'\"{string1}\" comes before \"{string2}\" is lexicographical order .')\n",
    "else :\n",
    "     print(f'\"{string1}\" comes after \"{string2}\" is lexicographical order  .')\n",
    "\n",
    "if string1.lower() == string2.lower():\n",
    "    print(f'\"{string1}\"and \"{string2}\" are equal  when case is igonred.')\n",
    "else :\n",
    "     print(f'\"{string1}\"and \"{string2}\" are not equal  when case is igonred .')\n",
    "\n",
    "     \n"
   ]
  },
  {
   "cell_type": "markdown",
   "metadata": {},
   "source": [
    "LOGICAL OPERATORS"
   ]
  },
  {
   "cell_type": "code",
   "execution_count": 25,
   "metadata": {},
   "outputs": [
    {
     "name": "stdout",
     "output_type": "stream",
     "text": [
      "x is less then y and y is less than z.\n",
      "Either x is less then y and y or greater than z.\n",
      "x is not greater than y.\n"
     ]
    }
   ],
   "source": [
    "x = 10\n",
    "y = 20\n",
    "z = 30\n",
    "if x < y and y < z :\n",
    "    print(\"x is less then y and y is less than z.\")\n",
    "if x < y or y > z :\n",
    "    print(\"Either x is less then y and y or greater than z.\")   \n",
    "if not (x > y ):\n",
    "    print(\"x is not greater than y.\")"
   ]
  },
  {
   "cell_type": "markdown",
   "metadata": {},
   "source": [
    "IDENTITY OPERATORS"
   ]
  },
  {
   "cell_type": "code",
   "execution_count": 26,
   "metadata": {},
   "outputs": [
    {
     "name": "stdout",
     "output_type": "stream",
     "text": [
      "True\n",
      "False\n",
      "False\n",
      "True\n",
      "True\n"
     ]
    }
   ],
   "source": [
    "a = [1, 2, 3]\n",
    "b = a\n",
    "c = [1, 2, 3]\n",
    "d = [1, 2, 3]\n",
    "\n",
    "print(a is b)\n",
    "print(a is c)\n",
    "print(c is d)\n",
    "\n",
    "print(a == c)\n",
    "print(c == d)"
   ]
  },
  {
   "cell_type": "markdown",
   "metadata": {},
   "source": [
    "MEMBERSHIP OPERATORS"
   ]
  },
  {
   "cell_type": "code",
   "execution_count": 29,
   "metadata": {},
   "outputs": [
    {
     "name": "stdout",
     "output_type": "stream",
     "text": [
      "True\n",
      "False\n",
      "True\n",
      "False\n",
      "True\n",
      "True\n"
     ]
    }
   ],
   "source": [
    "fruits = [\"apple\",\"banana\",\"cherry\"]\n",
    "\n",
    "print(\"banana\" in fruits)\n",
    "print(\"orang\" in fruits)\n",
    "\n",
    "print(\"grape\" not in fruits)\n",
    "print(\"apple\" not in fruits)\n",
    "\n",
    "sentence = \"The quick brow fox jumps over the lazy dog . \"\n",
    "print(\"fox\" in  sentence)\n",
    "print(\"cat\" not in sentence)"
   ]
  }
 ],
 "metadata": {
  "kernelspec": {
   "display_name": "Python 3",
   "language": "python",
   "name": "python3"
  },
  "language_info": {
   "codemirror_mode": {
    "name": "ipython",
    "version": 3
   },
   "file_extension": ".py",
   "mimetype": "text/x-python",
   "name": "python",
   "nbconvert_exporter": "python",
   "pygments_lexer": "ipython3",
   "version": "3.11.5"
  }
 },
 "nbformat": 4,
 "nbformat_minor": 2
}
