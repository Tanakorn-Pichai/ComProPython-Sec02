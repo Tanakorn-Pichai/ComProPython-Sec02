{
 "cells": [
  {
   "cell_type": "code",
   "execution_count": 1,
   "metadata": {},
   "outputs": [
    {
     "name": "stdout",
     "output_type": "stream",
     "text": [
      "Hi\n"
     ]
    }
   ],
   "source": [
    "def greet():\n",
    "    print(\"Hi\")\n",
    "greet()"
   ]
  },
  {
   "cell_type": "code",
   "execution_count": 6,
   "metadata": {},
   "outputs": [
    {
     "name": "stdout",
     "output_type": "stream",
     "text": [
      "HI\n",
      "I am Arthur\n",
      "king of the britons\n",
      "Goodbye!\n"
     ]
    }
   ],
   "source": [
    "def message():\n",
    "    print('I am Arthur')\n",
    "    print('king of the britons')\n",
    "print('HI')\n",
    "message()\n",
    "print('Goodbye!')"
   ]
  },
  {
   "cell_type": "code",
   "execution_count": 7,
   "metadata": {},
   "outputs": [
    {
     "name": "stdout",
     "output_type": "stream",
     "text": [
      "HI\n",
      "I am Tanakorn\n",
      "I love Python\n",
      "Goodbye!\n"
     ]
    }
   ],
   "source": [
    "def main():\n",
    "    print('HI')\n",
    "    message()\n",
    "    print('Goodbye!')\n",
    "def message():\n",
    "    print('I am Tanakorn')\n",
    "    print('I love Python')\n",
    "\n",
    "main()"
   ]
  },
  {
   "cell_type": "markdown",
   "metadata": {},
   "source": [
    "FUNCTION WITH PARAMETERS"
   ]
  },
  {
   "cell_type": "code",
   "execution_count": 2,
   "metadata": {},
   "outputs": [
    {
     "name": "stdout",
     "output_type": "stream",
     "text": [
      "Hi, jeng!\n"
     ]
    }
   ],
   "source": [
    "def greet(name):\n",
    "    print(f\"Hi, {name}!\")\n",
    "greet(\"jeng\")"
   ]
  },
  {
   "cell_type": "code",
   "execution_count": 3,
   "metadata": {},
   "outputs": [
    {
     "name": "stdout",
     "output_type": "stream",
     "text": [
      "8\n"
     ]
    }
   ],
   "source": [
    "def add(a, b):\n",
    "    return a +b\n",
    "result = add(3, 5)\n",
    "print(result)"
   ]
  },
  {
   "cell_type": "markdown",
   "metadata": {},
   "source": [
    "FUNCTION DEFAULT PARAMETERS"
   ]
  },
  {
   "cell_type": "code",
   "execution_count": 4,
   "metadata": {},
   "outputs": [
    {
     "name": "stdout",
     "output_type": "stream",
     "text": [
      "Hi, jeng!\n",
      "Hi, Tanakorn!\n",
      "Hi, 123456!\n"
     ]
    }
   ],
   "source": [
    "\n",
    "def greet(name = \"jeng\"):\n",
    "    print(f\"Hi, {name}!\")\n",
    "greet()\n",
    "\n",
    "greet(\"Tanakorn\")\n",
    "\n",
    "greet(\"123456\")"
   ]
  },
  {
   "cell_type": "markdown",
   "metadata": {},
   "source": [
    "FUNCTION WITH VARIABLE-LENGTH PARAMETERS"
   ]
  },
  {
   "cell_type": "code",
   "execution_count": 5,
   "metadata": {},
   "outputs": [
    {
     "name": "stdout",
     "output_type": "stream",
     "text": [
      "27\n"
     ]
    }
   ],
   "source": [
    "def sum_all(*arg):\n",
    "    return sum(arg)\n",
    "print(sum_all(1,2,3,4,5,6,6))"
   ]
  },
  {
   "cell_type": "code",
   "execution_count": 20,
   "metadata": {},
   "outputs": [
    {
     "name": "stdout",
     "output_type": "stream",
     "text": [
      "The maximum value is : 9\n"
     ]
    }
   ],
   "source": [
    "def find_max(*args):\n",
    "    if not args:\n",
    "        return None\n",
    "    max_value = args[0]\n",
    "    for number in args:\n",
    "        if number > max_value:\n",
    "            max_value = number\n",
    "    return max_value\n",
    "\n",
    "result = find_max(3,5,9,2,8)\n",
    "print(f\"The maximum value is : {result}\")\n"
   ]
  },
  {
   "cell_type": "code",
   "execution_count": 28,
   "metadata": {},
   "outputs": [
    {
     "name": "stdout",
     "output_type": "stream",
     "text": [
      "Argument 1+ Python\n",
      "Argument 2+ 3.8\n",
      "Argument 3+ True\n",
      "Argument 4+ [1, 2, 3]\n",
      "Argument 5+ {'key': 'value'}\n"
     ]
    }
   ],
   "source": [
    "#ใส่ข้อความหรือข้อมูลลงใน ฟังก์ชั่น เพื่อ ทำการแสดงผล\n",
    "def print_all (*args):\n",
    "    for index, arg in enumerate (args):\n",
    "        print(f\"Argument {index +1} : {arg}\")\n",
    "print_all(\"Python\",3.8, True, [1,2,3], {\"key\":\"value\"})"
   ]
  },
  {
   "cell_type": "code",
   "execution_count": 17,
   "metadata": {},
   "outputs": [
    {
     "name": "stdout",
     "output_type": "stream",
     "text": [
      "20\n"
     ]
    }
   ],
   "source": [
    "def multiply(a, b):\n",
    "    return a * b\n",
    "\n",
    "result = multiply(4,5)\n",
    "print(result)"
   ]
  },
  {
   "cell_type": "code",
   "execution_count": 23,
   "metadata": {},
   "outputs": [
    {
     "name": "stdout",
     "output_type": "stream",
     "text": [
      "name : Jeng \n",
      "age : 20 \n"
     ]
    }
   ],
   "source": [
    "def display_info(**kwargs):\n",
    "    for key, value  in kwargs.items():\n",
    "        print(f\"{key} : {value} \" )\n",
    "display_info(name = \"Jeng\" , age = 20)"
   ]
  },
  {
   "cell_type": "code",
   "execution_count": 33,
   "metadata": {},
   "outputs": [
    {
     "name": "stdout",
     "output_type": "stream",
     "text": [
      "Total Sum: 75\n",
      "Average: 15.0\n",
      "Maximum: 25\n",
      "Minimum: 5\n"
     ]
    }
   ],
   "source": [
    "def calculate_stats(numbers):\n",
    "    total_sum = sum(numbers)\n",
    "    average = total_sum / len(numbers)\n",
    "    maximum = max(numbers)\n",
    "    minimum = min(numbers)\n",
    "    return total_sum, average, maximum, minimum\n",
    "\n",
    "# Example usage\n",
    "number = [5, 10, 15, 20, 25]\n",
    "total, avg, max_num, min_num = calculate_stats(number)\n",
    "\n",
    "print(f\"Total Sum: {total}\")\n",
    "print(f\"Average: {avg}\")\n",
    "print(f\"Maximum: {max_num}\")\n",
    "print(f\"Minimum: {min_num}\")\n"
   ]
  },
  {
   "cell_type": "markdown",
   "metadata": {},
   "source": [
    "FUNCTION SCOPE AND VARIABLES"
   ]
  },
  {
   "cell_type": "markdown",
   "metadata": {},
   "source": [
    "GLOBAL VARIABLES AND CONSTANTS"
   ]
  },
  {
   "cell_type": "code",
   "execution_count": 35,
   "metadata": {},
   "outputs": [
    {
     "name": "stdout",
     "output_type": "stream",
     "text": [
      "Im inside Fun\n"
     ]
    }
   ],
   "source": [
    "def my_function():\n",
    "    local_variable = \"Im inside Fun\"\n",
    "    print(local_variable)\n",
    "my_function()\n",
    "\n",
    "# print(local_variable)"
   ]
  },
  {
   "cell_type": "code",
   "execution_count": 37,
   "metadata": {},
   "outputs": [
    {
     "name": "stdout",
     "output_type": "stream",
     "text": [
      "Im outside Fun\n",
      "Im outside Fun\n"
     ]
    }
   ],
   "source": [
    "global_variable = \"Im outside Fun\"\n",
    "def my_function():\n",
    "   \n",
    "    print(global_variable)\n",
    "my_function()\n",
    "print(global_variable)"
   ]
  },
  {
   "cell_type": "code",
   "execution_count": 59,
   "metadata": {},
   "outputs": [
    {
     "name": "stdout",
     "output_type": "stream",
     "text": [
      "Heads\n",
      "Tails\n",
      "Tails\n",
      "Tails\n",
      "Heads\n",
      "Heads\n",
      "Tails\n",
      "Heads\n",
      "Heads\n",
      "Tails\n"
     ]
    }
   ],
   "source": [
    "import random\n",
    "\n",
    "HEADS = 1\n",
    "TAILS = 2\n",
    "TOSSES = 10\n",
    "\n",
    "def tosses_coin():\n",
    "    for toss in range(TOSSES):\n",
    "        if random.randint(HEADS,TAILS) == HEADS :\n",
    "            print('Heads')\n",
    "        else:\n",
    "            print('Tails')\n",
    "tosses_coin()"
   ]
  },
  {
   "cell_type": "markdown",
   "metadata": {},
   "source": [
    "MODIFY GLOBAL VARIABLES"
   ]
  },
  {
   "cell_type": "code",
   "execution_count": 61,
   "metadata": {},
   "outputs": [
    {
     "name": "stdout",
     "output_type": "stream",
     "text": [
      "2\n"
     ]
    }
   ],
   "source": [
    "couter = 0\n",
    "\n",
    "def increment():\n",
    "    global couter\n",
    "    couter += 1\n",
    "\n",
    "increment()\n",
    "increment()\n",
    "print(couter)"
   ]
  },
  {
   "cell_type": "code",
   "execution_count": 63,
   "metadata": {},
   "outputs": [
    {
     "name": "stdout",
     "output_type": "stream",
     "text": [
      "15\n"
     ]
    }
   ],
   "source": [
    "from math_operatuons import add\n",
    "print(add(10,5))\n"
   ]
  },
  {
   "cell_type": "markdown",
   "metadata": {},
   "source": [
    "FACTORIAL RECURSIVE"
   ]
  },
  {
   "cell_type": "code",
   "execution_count": 68,
   "metadata": {},
   "outputs": [
    {
     "name": "stdout",
     "output_type": "stream",
     "text": [
      "1\n"
     ]
    }
   ],
   "source": [
    "def factorial(n):\n",
    "    if n == 0:\n",
    "        return 1 \n",
    "    else:\n",
    "        return n * factorial(n - 1)\n",
    "print(factorial(0))"
   ]
  },
  {
   "cell_type": "markdown",
   "metadata": {},
   "source": [
    "FIBONACCI RECURSIVE"
   ]
  },
  {
   "cell_type": "code",
   "execution_count": 70,
   "metadata": {},
   "outputs": [
    {
     "name": "stdout",
     "output_type": "stream",
     "text": [
      "8\n"
     ]
    }
   ],
   "source": [
    "def fibonacci(n):\n",
    "    if n == 0:\n",
    "        return 0 \n",
    "    elif n == 1:\n",
    "        return 1\n",
    "    else:\n",
    "        return fibonacci(n - 1) + fibonacci(n - 2)\n",
    "print(fibonacci(6))"
   ]
  }
 ],
 "metadata": {
  "kernelspec": {
   "display_name": "Python 3",
   "language": "python",
   "name": "python3"
  },
  "language_info": {
   "codemirror_mode": {
    "name": "ipython",
    "version": 3
   },
   "file_extension": ".py",
   "mimetype": "text/x-python",
   "name": "python",
   "nbconvert_exporter": "python",
   "pygments_lexer": "ipython3",
   "version": "3.11.0"
  }
 },
 "nbformat": 4,
 "nbformat_minor": 2
}
