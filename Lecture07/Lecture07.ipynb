{
 "cells": [
  {
   "cell_type": "markdown",
   "metadata": {},
   "source": [
    "CREATING SET"
   ]
  },
  {
   "cell_type": "code",
   "execution_count": 12,
   "metadata": {},
   "outputs": [
    {
     "name": "stdout",
     "output_type": "stream",
     "text": [
      "{'banana', 'apple', 'cherry'}\n",
      "{1, 2, 3, 4}\n"
     ]
    }
   ],
   "source": [
    "fruits = {\"apple\",\"banana\", \"cherry\" , \"apple\" }\n",
    "print(fruits)\n",
    "\n",
    "numbers = set([1,2,3,1,2,4])\n",
    "print(numbers)\n",
    "\n"
   ]
  },
  {
   "cell_type": "markdown",
   "metadata": {},
   "source": [
    "SET MEMBER MANAGEMENT"
   ]
  },
  {
   "cell_type": "code",
   "execution_count": 18,
   "metadata": {},
   "outputs": [
    {
     "name": "stdout",
     "output_type": "stream",
     "text": [
      "{'banana', 'apple', 'orange', 'cherry'}\n"
     ]
    },
    {
     "ename": "KeyError",
     "evalue": "'grape'",
     "output_type": "error",
     "traceback": [
      "\u001b[1;31m---------------------------------------------------------------------------\u001b[0m",
      "\u001b[1;31mKeyError\u001b[0m                                  Traceback (most recent call last)",
      "Cell \u001b[1;32mIn[18], line 6\u001b[0m\n\u001b[0;32m      3\u001b[0m fruits\u001b[38;5;241m.\u001b[39madd(\u001b[38;5;124m\"\u001b[39m\u001b[38;5;124morange\u001b[39m\u001b[38;5;124m\"\u001b[39m)\n\u001b[0;32m      4\u001b[0m \u001b[38;5;28mprint\u001b[39m(fruits)\n\u001b[1;32m----> 6\u001b[0m \u001b[43mfruits\u001b[49m\u001b[38;5;241;43m.\u001b[39;49m\u001b[43mremove\u001b[49m\u001b[43m(\u001b[49m\u001b[38;5;124;43m\"\u001b[39;49m\u001b[38;5;124;43mgrape\u001b[39;49m\u001b[38;5;124;43m\"\u001b[39;49m\u001b[43m)\u001b[49m\n\u001b[0;32m      7\u001b[0m \u001b[38;5;28mprint\u001b[39m(fruits)\n\u001b[0;32m      9\u001b[0m fruits\u001b[38;5;241m.\u001b[39mdiscard(\u001b[38;5;124m\"\u001b[39m\u001b[38;5;124mgrape\u001b[39m\u001b[38;5;124m\"\u001b[39m)\n",
      "\u001b[1;31mKeyError\u001b[0m: 'grape'"
     ]
    }
   ],
   "source": [
    "fruits = {\"apple\",\"banana\", \"cherry\" }\n",
    "\n",
    "fruits.add(\"orange\")\n",
    "print(fruits)\n",
    "\n",
    "fruits.remove(\"banana\")\n",
    "print(fruits)\n",
    "\n",
    "fruits.discard(\"grape\")\n",
    "print(fruits)\n",
    "\n",
    "remove_item = fruits.pop()\n",
    "print(remove_item)\n",
    "print(fruits)\n",
    "\n",
    "fruits.clear()\n",
    "print(fruits)"
   ]
  },
  {
   "cell_type": "markdown",
   "metadata": {},
   "source": [
    "SET OPERATIONS"
   ]
  },
  {
   "cell_type": "code",
   "execution_count": 8,
   "metadata": {},
   "outputs": [
    {
     "name": "stdout",
     "output_type": "stream",
     "text": [
      "{1, 2, 3, 4, 5}\n",
      "{3}\n",
      "{1, 2}\n",
      "{1, 2, 4, 5}\n"
     ]
    }
   ],
   "source": [
    "set1 = {1,2,3}\n",
    "set2 = {3,4,5}\n",
    "\n",
    "print(set1.union(set2))\n",
    "\n",
    "print(set1.intersection(set2))\n",
    "\n",
    "print(set1.difference(set2))\n",
    "\n",
    "print(set1.symmetric_difference(set2))\n",
    "\n"
   ]
  },
  {
   "cell_type": "code",
   "execution_count": 14,
   "metadata": {},
   "outputs": [
    {
     "name": "stdout",
     "output_type": "stream",
     "text": [
      "Union: {1, 2, 3, 4, 5}\n",
      "intersection: {3}\n",
      "difference: {1, 2}\n",
      "symmetric_difference: {1, 2, 4, 5}\n"
     ]
    }
   ],
   "source": [
    "set1 = {1,2,3}\n",
    "set2 = {3,4,5}\n",
    "\n",
    "union_set = set1 | set2\n",
    "print (\"Union:\",union_set)\n",
    "\n",
    "intersection_set = set1 & set2\n",
    "print (\"intersection:\",intersection_set)\n",
    "\n",
    "difference_set = set1 - set2\n",
    "print (\"difference:\",difference_set)\n",
    "\n",
    "symmetric_difference_set = set1 ^ set2\n",
    "print (\"symmetric_difference:\",symmetric_difference_set)\n"
   ]
  },
  {
   "cell_type": "code",
   "execution_count": 20,
   "metadata": {},
   "outputs": [
    {
     "name": "stdout",
     "output_type": "stream",
     "text": [
      "{1, 2, 3, 4, 5, 6, 7, 8, 9, 10}\n",
      "10\n",
      "{1, 2, 3, 4, 5, 6, 7, 8}\n",
      "{8, 6, 7}\n",
      "{1, 2, 3, 4, 5, 9, 10, 'C', 'B', 'D', 'A'}\n",
      "{6, 7, 8, 9, 'C', 'D', 'A'}\n",
      "None\n",
      "1\n",
      "2\n",
      "3\n",
      "4\n",
      "5\n",
      "6\n",
      "7\n",
      "8\n",
      "9\n",
      "10\n"
     ]
    }
   ],
   "source": [
    "setA = {1, 2, 3, 4}\n",
    "setB = set([8, 9, 10])\n",
    "\n",
    "setA.add(5)\n",
    "setB.update([6, 7])\n",
    "Uset = setA | setB\n",
    "print(Uset)\n",
    "print(len(Uset))\n",
    "\n",
    "setB.update('ABCD')\n",
    "setA.update([6, 7, 8])\n",
    "print(setA)\n",
    "\n",
    "print(setA.intersection(setB))\n",
    "print(setA ^ setB)\n",
    "\n",
    "setB.remove('B')\n",
    "setB.discard(10)\n",
    "print(setB)\n",
    "print(setA.clear())\n",
    "for val in Uset:\n",
    "    print(val)\n"
   ]
  },
  {
   "cell_type": "markdown",
   "metadata": {},
   "source": [
    "THE POWER OF USING SETS WITH LISTS"
   ]
  },
  {
   "cell_type": "code",
   "execution_count": 26,
   "metadata": {},
   "outputs": [
    {
     "name": "stdout",
     "output_type": "stream",
     "text": [
      "[1, 2, 3, 4, 5, 6]\n"
     ]
    }
   ],
   "source": [
    "def remove_duplicates (lst): \n",
    "    return list (set(lst)) \n",
    "numbers=[1, 2, 3, 1, 2, 4, 5, 6, 5, 4, 3] \n",
    "print (remove_duplicates(numbers))"
   ]
  },
  {
   "cell_type": "code",
   "execution_count": 23,
   "metadata": {},
   "outputs": [
    {
     "name": "stdout",
     "output_type": "stream",
     "text": [
      "[{'Charlie', 'Bob', 'Alice', 'David'}, {'Charlie', 'David', 'Alice'}, {'Bob', 'Alice', 'David'}, {'David', 'Eve', 'Alice'}, {'Charlie', 'Bob', 'David'}]\n",
      "Present every day: {'David'}\n",
      "Absent at least one day:  {'Charlie', 'Bob', 'Eve', 'Alice'}\n",
      "Present on first day but absent on last day: ['Alice']\n",
      "Total unique students: 5\n"
     ]
    }
   ],
   "source": [
    "attendance_week = [\n",
    "    [\"Alice\", \"Bob\", \"Charlie\", \"David\"],\n",
    "    [\"Alice\", \"Charlie\", \"David\"],\n",
    "    [\"Alice\", \"Bob\", \"David\"],\n",
    "    [\"Alice\", \"David\", \"Eve\"],\n",
    "    [\"Bob\", \"Charlie\", \"David\"]\n",
    "]\n",
    "attendance_sets = [set(day) for day in attendance_week]\n",
    "print(attendance_sets)\n",
    "\n",
    "\n",
    "# 1. Find the set of students who were present every day.\n",
    "present_every_day = set. intersection (*attendance_sets) \n",
    "print(\"Present every day:\", present_every_day)\n",
    "#Output: 'David'}\n",
    "# 2. Determine the set of students who were absent at least one day. \n",
    "all_students = set.union (*attendance_sets)\n",
    "absent_at_least_one_day = all_students - present_every_day\n",
    "print(\"Absent at least one day: \", absent_at_least_one_day)\n",
    "# Output: {'Alice', 'Charlie', 'Bob', 'Eve'}\n",
    "\n",
    "# 3. Create a list of students who were present on the first day but absent on the last day \n",
    "first_day_present = attendance_sets [0]\n",
    "last_day_present = attendance_sets [-1]\n",
    "first_day_but_not_last = list(first_day_present\n",
    "-\n",
    "last_day_present)\n",
    "print(\"Present on first day but absent on last day:\", first_day_but_not_last)\n",
    "# Output: ['Alice']\n",
    "# 4. Calculate the total number of unique students who attended at least one day. \n",
    "unique_students_count = len(all_students)\n",
    "print(\"Total unique students:\", unique_students_count)"
   ]
  },
  {
   "cell_type": "markdown",
   "metadata": {},
   "source": [
    "DICTIONARIES"
   ]
  },
  {
   "cell_type": "code",
   "execution_count": 28,
   "metadata": {},
   "outputs": [
    {
     "name": "stdout",
     "output_type": "stream",
     "text": [
      "{'name': 'Alice', 'age': 25, 'grade': 'A'}\n"
     ]
    }
   ],
   "source": [
    "student = {\"name\" : \"Alice\" , \"age\" : 25, \"grade\":\"A\"}\n",
    "print(student)"
   ]
  },
  {
   "cell_type": "code",
   "execution_count": 27,
   "metadata": {},
   "outputs": [
    {
     "name": "stdout",
     "output_type": "stream",
     "text": [
      "{'name': 'Alice', 'age': 25, 'grade': 'A'}\n",
      "{'name': 'Alice', 'age': 25, 'grade': 'A'}\n"
     ]
    }
   ],
   "source": [
    "student = dict(name = \"Alice\" , age =  25, grade=\"A\")\n",
    "print(student)\n",
    "\n",
    "student = dict([(\"name\" , \"Alice\" ), (\"age\" , 25), (\"grade\",\"A\")])\n",
    "print(student)"
   ]
  },
  {
   "cell_type": "code",
   "execution_count": 29,
   "metadata": {},
   "outputs": [
    {
     "name": "stdout",
     "output_type": "stream",
     "text": [
      "{'name': 'Alice', 'age': 25, 'grade': 'A'}\n"
     ]
    }
   ],
   "source": [
    "student = {}\n",
    "\n",
    "student[\"name\"] = \"Alice\"\n",
    "student[\"age\"] = 25\n",
    "student[\"grade\"] = \"A\"\n",
    "print(student)"
   ]
  },
  {
   "cell_type": "code",
   "execution_count": 30,
   "metadata": {},
   "outputs": [
    {
     "name": "stdout",
     "output_type": "stream",
     "text": [
      "{'Anirach': '777-1111', 'Mickey': '777-2222', 'Donald': '777-3333'}\n",
      "777-2222\n",
      "777-3333\n",
      "Plutonot in phonebook\n",
      "{'Anirach': '777-1111', 'Mickey': '777-2122', 'Donald': '777-3333', 'Simpson': '777-4567', 'Pluto': '777-4444'}\n",
      "{'Anirach': '777-1111', 'Mickey': '777-2122', 'Donald': '777-3333', 'Pluto': '777-4444'}\n"
     ]
    }
   ],
   "source": [
    "phonebook = {'Anirach': '777-1111', 'Mickey': '777-2222', 'Donald': '777-3333'}\n",
    "# display dictionary contents\n",
    "print(phonebook)\n",
    "# retive specic key value\n",
    "print (phonebook ['Mickey'])\n",
    "print(phonebook.get('Donald'))\n",
    "key = 'Pluto'\n",
    "if key in phonebook:\n",
    "    print (phonebook ['Pluto'])\n",
    "else:\n",
    "    print(key + 'not in phonebook')\n",
    "phonebook ['Simpson'] = '777-4567' \n",
    "phonebook ['Pluto'] = '777-4444' \n",
    "phonebook [ 'Mickey'] = '777-2122'\n",
    "print(phonebook)\n",
    "del phonebook['Simpson']\n",
    "print(phonebook)\n"
   ]
  },
  {
   "cell_type": "code",
   "execution_count": 34,
   "metadata": {},
   "outputs": [
    {
     "name": "stdout",
     "output_type": "stream",
     "text": [
      "name\n",
      "age\n",
      "grade\n",
      "major\n"
     ]
    }
   ],
   "source": [
    "student = {\"name\" : \"Alice\" , \"age\" : 25, \"grade\":\"A\",\"major\" : \"Computer Science\"}\n",
    "for value in student.values():\n",
    "    print(value)"
   ]
  },
  {
   "cell_type": "code",
   "execution_count": 32,
   "metadata": {},
   "outputs": [
    {
     "name": "stdout",
     "output_type": "stream",
     "text": [
      "name: Alice\n",
      "age: 25\n",
      "grade: A\n",
      "major: Computer Science\n"
     ]
    }
   ],
   "source": [
    "student = {\"name\" : \"Alice\" , \"age\" : 25, \"grade\":\"A\",\"major\" : \"Computer Science\"}\n",
    "for key,value in student.items():\n",
    "    print(f\"{key}: {value}\")"
   ]
  },
  {
   "cell_type": "code",
   "execution_count": 33,
   "metadata": {},
   "outputs": [
    {
     "name": "stdout",
     "output_type": "stream",
     "text": [
      "{'name': 'Alice', 'age': 26, 'grade': 'A', 'major': 'Computer Science'}\n",
      "{'name': 'Alice', 'age': 26, 'major': 'Computer Science'}\n",
      "Computer Science\n",
      "{'name': 'Alice', 'age': 26}\n"
     ]
    }
   ],
   "source": [
    "student = {\"name\" : \"Alice\" , \"age\" : 25, \"grade\":\"A\"}\n",
    "\n",
    "student[\"age\"] = 26\n",
    "student[\"major\"] = \"Computer Science\"\n",
    "print(student)\n",
    "\n",
    "del student[\"grade\"]\n",
    "print(student)\n",
    "\n",
    "remove_major = student.pop(\"major\")\n",
    "print(remove_major)\n",
    "print(student)"
   ]
  },
  {
   "cell_type": "code",
   "execution_count": 41,
   "metadata": {},
   "outputs": [
    {
     "name": "stdout",
     "output_type": "stream",
     "text": [
      "There are  4 names in phonebook\n",
      "Anirach phone number is:  777-1111\n",
      "Mickey phone number is:  777-2222\n",
      "Donald phone number is:  777-3333\n",
      "Bart phone number is:  [1, 3, 5]\n",
      "{'Anirach': '777-1111', 'Mickey': '777-2222', 'Donald': '777-3333', 'Bart': [1, 9, 5]}\n"
     ]
    }
   ],
   "source": [
    "phonebook  = {'Anirach': '777-1111', 'Mickey': '777-2222', 'Donald': '777-3333'}\n",
    "phonebook['Bart'] = [1, 3, 5]\n",
    "elements = len(phonebook)\n",
    "print('There are ',elements,'names in phonebook')\n",
    "for key in phonebook:\n",
    "    print(key, 'phone number is: ', phonebook [key])\n",
    "phonebook['Bart'][1] = 9\n",
    "print(phonebook)"
   ]
  },
  {
   "cell_type": "code",
   "execution_count": 42,
   "metadata": {},
   "outputs": [
    {
     "name": "stdout",
     "output_type": "stream",
     "text": [
      "dict_keys(['name', 'age', 'major'])\n",
      "dict_values(['Alice', 26, 'Computer Science'])\n",
      "dict_items([('name', 'Alice'), ('age', 26), ('major', 'Computer Science')])\n",
      "Alice\n",
      "Not Found\n",
      "Computer Science\n",
      "{'name': 'Alice', 'age': 26}\n",
      "('age', 26)\n",
      "{'name': 'Alice'}\n",
      "{}\n"
     ]
    }
   ],
   "source": [
    "# Creating a dictionary\n",
    "student={'name': 'Alice', 'age': 26, 'major': 'Computer Science'}\n",
    "print (student.keys())\n",
    "\n",
    "\n",
    "print (student.values ()) # Output: dict_values(['Alice', 26, ' Computer Science'])\n",
    "print (student.items()) # Output: dict_items ([('name', 'Alice'), ('age', 26), ('major', 'Computer Science')])\n",
    "\n",
    "print (student.get(\"name\"))\n",
    "print (student.get(\"grade\", \"Not Found\")) # Output: Not Found\n",
    "\n",
    "major = student.pop(\"major\")\n",
    "print (major)\n",
    "print (student) # Output: {'name': 'Alice', 'age': 26}\n",
    "\n",
    "last_item = student.popitem()\n",
    "print (last_item) # Output: ('age', 26)\n",
    "print (student)\n",
    "# Output: {'name': 'Alice'}\n",
    "\n",
    "student.clear()\n",
    "print (student) # Output: {}"
   ]
  },
  {
   "cell_type": "code",
   "execution_count": null,
   "metadata": {},
   "outputs": [],
   "source": []
  }
 ],
 "metadata": {
  "kernelspec": {
   "display_name": "Python 3",
   "language": "python",
   "name": "python3"
  },
  "language_info": {
   "codemirror_mode": {
    "name": "ipython",
    "version": 3
   },
   "file_extension": ".py",
   "mimetype": "text/x-python",
   "name": "python",
   "nbconvert_exporter": "python",
   "pygments_lexer": "ipython3",
   "version": "3.11.9"
  }
 },
 "nbformat": 4,
 "nbformat_minor": 2
}
