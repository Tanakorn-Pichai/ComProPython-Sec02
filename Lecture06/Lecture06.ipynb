{
 "cells": [
  {
   "cell_type": "markdown",
   "metadata": {},
   "source": [
    "CREATING AN ACCESSING LISTS"
   ]
  },
  {
   "cell_type": "code",
   "execution_count": null,
   "metadata": {},
   "outputs": [],
   "source": [
    "prime_number = [2,3,5,7, 11, 13, 17, 19, 23, 29]\n",
    "print(f\"Prime number:{prime_number}\")\n",
    "fifth_prime = prime_number[4]\n",
    "print(f\"Fifth number:{fifth_prime}\")\n",
    "fifth_NN = prime_number[5]\n",
    "print(f\"Fifth number:{fifth_NN}\")"
   ]
  },
  {
   "cell_type": "markdown",
   "metadata": {},
   "source": [
    "LIST METHODS"
   ]
  },
  {
   "cell_type": "code",
   "execution_count": null,
   "metadata": {},
   "outputs": [
    {
     "ename": "",
     "evalue": "",
     "output_type": "error",
     "traceback": [
      "\u001b[1;31mRunning cells with 'Python 3.11.9' requires the ipykernel package.\n",
      "\u001b[1;31mRun the following command to install 'ipykernel' into the Python environment. \n",
      "\u001b[1;31mCommand: '\"c:/Users/Tanakorn Pichai/AppData/Local/Microsoft/WindowsApps/python3.11.exe\" -m pip install ipykernel -U --user --force-reinstall'"
     ]
    }
   ],
   "source": [
    "fruits =  [\"apple\",\"banana\", \"cherry\"]\n",
    "more_fruits = [\"mango\",\"pineapple\"]\n",
    "11\n",
    "for fruit in more_fruits:\n",
    "    fruits.append(fruit)\n",
    "print(f\"Fruits after append: {fruits}\")"
   ]
  },
  {
   "cell_type": "code",
   "execution_count": null,
   "metadata": {},
   "outputs": [],
   "source": [
    "fruits =  [\"apple\",\"banana\", \"cherry\"]\n",
    "fruits.insert(1, \"strawberry\")\n",
    "fruits.insert(6, \"blueberry\")\n",
    "print(f\"Fruits after inser:{fruits} \")"
   ]
  },
  {
   "cell_type": "code",
   "execution_count": null,
   "metadata": {},
   "outputs": [],
   "source": [
    "fruits =  [\"apple\",\"banana\",\"apple\", \"cherry\",\"apple\"]\n",
    "apple = []\n",
    "fruits_index = 0\n",
    "for fruit in fruits:\n",
    "    if fruit == 'apple':\n",
    "        apple.append(fruits_index)\n",
    "    fruits_index = fruits_index + 1\n",
    "# fruits.remove(\"apple\")\n",
    "fruits.pop(apple[0])\n",
    "fruits.pop(apple[-1]-1)\n",
    "print(f\"Fruits after remove:{fruits} \")"
   ]
  },
  {
   "cell_type": "code",
   "execution_count": null,
   "metadata": {},
   "outputs": [],
   "source": [
    "fruits =  [\"apple\",\"banana\", \"cherry\"]\n",
    "fruits.pop(1)\n",
    "fruits.append(\"banana\")\n",
    "print(f\"Fruits after inser:{fruits} \")"
   ]
  },
  {
   "cell_type": "code",
   "execution_count": null,
   "metadata": {},
   "outputs": [],
   "source": [
    "fruits =  [\"apple\",\"banana\", \"cherry\",\"apple\"]\n",
    "apple1 = fruits.index(\"apple\")\n",
    "print(f\"'apple' is at index:{apple1}\")\n",
    "\n",
    "apple2 = fruits.index(\"apple\",apple1+1)\n",
    "print(f\"'apple' is at index:{apple2}\")\n",
    "\n",
    "apple3 = fruits.index(\"apple\",apple2+1)\n",
    "print(f\"'apple' is at index:{apple3}\")\n"
   ]
  },
  {
   "cell_type": "markdown",
   "metadata": {},
   "source": []
  },
  {
   "cell_type": "code",
   "execution_count": null,
   "metadata": {},
   "outputs": [],
   "source": [
    "nested_list =  [[1,2,3],[4,5,6],[7,8,9]]\n",
    "for sublist in nested_list:\n",
    "    sublist.clear()\n",
    "print(f\"nested list after clear:{nested_list} \")"
   ]
  },
  {
   "cell_type": "code",
   "execution_count": null,
   "metadata": {},
   "outputs": [],
   "source": [
    "nested_list =  [[1,2,3],[4,5,6],[7,8,9]]\n",
    "remove_index = 0\n",
    "for sublist in nested_list:\n",
    "    sublist.pop(remove_index)\n",
    "    remove_index = remove_index+1\n",
    "print(f\"nested list after clear:{nested_list} \")"
   ]
  },
  {
   "cell_type": "code",
   "execution_count": null,
   "metadata": {},
   "outputs": [],
   "source": [
    "nested_list =  [[1,2,3],[4,10,6],[7,8,9],[11,12]]\n",
    "nested_list.reverse()\n",
    "for sublist in nested_list:\n",
    "    sublist.sort()\n",
    "    sublist.reverse()\n",
    "\n",
    "print(f\"nested list after clear:{nested_list} \")"
   ]
  },
  {
   "cell_type": "code",
   "execution_count": null,
   "metadata": {},
   "outputs": [],
   "source": [
    "heroes = ['Ironman', 'Thor', 'Hulk', 'Superman', 'Spiderman']\n",
    "h2 = ['Dr. Strange', 'Cpt. America', 'Black Panther', 'Ant Man']\n",
    "\n",
    "heroes.insert(0, h2[0])\n",
    "print(heroes)\n",
    "\n",
    "heroes.insert(heroes.index('Thor') + 1, h2[1])\n",
    "print(heroes)\n",
    "\n",
    "heroes.remove('Superman')\n",
    "print(heroes)\n",
    "\n",
    "heroes.append(h2[3])\n",
    "print(heroes)\n",
    "\n",
    "heroes.sort()\n",
    "print(heroes)\n",
    "\n",
    "heroes.reverse()\n",
    "print(heroes)\n",
    "\n",
    "newheroes = heroes\n",
    "newheroes[0] = 'Wonder Women'\n",
    "print(heroes)\n",
    "\n",
    "copyheroes = [] + heroes\n",
    "print(copyheroes)\n",
    "\n",
    "copyheroes[0] = 'Hanuman'\n",
    "print(heroes)\n",
    "print(copyheroes)\n"
   ]
  },
  {
   "cell_type": "markdown",
   "metadata": {},
   "source": [
    "SLICING LIST"
   ]
  },
  {
   "cell_type": "code",
   "execution_count": null,
   "metadata": {},
   "outputs": [],
   "source": [
    "data = list(range(100))\n",
    "slice_data = data[10:51:5]\n",
    "print(f\"Slicd data: {slice_data}\")"
   ]
  },
  {
   "cell_type": "code",
   "execution_count": null,
   "metadata": {},
   "outputs": [],
   "source": [
    "ss = \"Sammy Shark!\"\n",
    "print(ss[4])\n",
    "print(ss[6:11])\n",
    "print(ss[:5])\n",
    "print(ss[7:])\n",
    "print(ss[-4:-1])\n",
    "print(ss[6:11])\n",
    "print(ss[6:11:1])\n",
    "print(ss[0:12:2])\n",
    "print(ss[0:12:4])\n",
    "print(ss[::4])\n",
    "print(ss[::-1])\n",
    "print(ss[::-2])"
   ]
  },
  {
   "cell_type": "code",
   "execution_count": null,
   "metadata": {},
   "outputs": [],
   "source": [
    "# Example list\n",
    "numbers = [4, 2, 9, 1, 5, 6]\n",
    "\n",
    "length = len(numbers)\n",
    "print(f\"Length of the list: {length}\")\n",
    "\n",
    "total_sum = sum(numbers)\n",
    "print(f\"Sum of all elements: {total_sum}\")\n",
    "\n",
    "max_value = max(numbers)\n",
    "print(f\"Maximum value: {max_value}\")\n",
    "\n",
    "min_value = min(numbers)\n",
    "print(f\"Minimum value: {min_value}\")\n",
    "\n",
    "sorted_numbers = sorted(numbers)\n",
    "print(f\"Sorted list: {sorted_numbers}\")\n",
    "\n",
    "bool_list = [False, True, False]\n",
    "any_true = any(bool_list)\n",
    "print(f\"Is any element True? {any_true}\")\n",
    "\n",
    "all_true = all(bool_list)\n",
    "print(f\"Are all elements True? {all_true}\")\n",
    "\n",
    "string = \"hello\"\n",
    "char_list = list(string)\n",
    "print(f\"List of characters: {char_list}\")\n",
    "\n",
    "reversed_numbers = list(reversed(numbers))\n",
    "print(f\"Reversed list: {reversed_numbers}\")\n",
    "\n",
    "enumerated_numbers = list(enumerate(numbers))\n",
    "print(f\"Enumerated list: {enumerated_numbers}\")\n"
   ]
  },
  {
   "cell_type": "code",
   "execution_count": null,
   "metadata": {},
   "outputs": [],
   "source": [
    "num_employees=6\n",
    "def main():\n",
    "    hours = [0] * num_employees\n",
    "\n",
    "    for index in range(num_employees):\n",
    "        print('Enter the hour worked by emplopyee', \\\n",
    "              index+1, ':',sep='',end='')\n",
    "        hours[index]= float(input())\n",
    "    pay_rate = float(input('Enter the hourly pay rate: '))\n",
    "\n",
    "    for index in range(num_employees):\n",
    "        gross_pay = hours[index] * pay_rate\n",
    "        print('Gross pay for employee', index + 1, ': $', \\\n",
    "            format(gross_pay, ',.2f'), sep='')\n",
    "        \n",
    "main()\n",
    "            "
   ]
  },
  {
   "cell_type": "markdown",
   "metadata": {},
   "source": [
    "TWO-DIMENSIONAL LISTS"
   ]
  },
  {
   "cell_type": "code",
   "execution_count": null,
   "metadata": {},
   "outputs": [],
   "source": [
    "matrix = [\n",
    "    [1,2,3],\n",
    "    [4,5,6],\n",
    "    [7,8,9]\n",
    "]\n",
    "matrix[0][1] = 10\n",
    "for row in matrix:\n",
    "    for element in row:\n",
    "        print(element, end=\"\")\n",
    "    print()"
   ]
  },
  {
   "cell_type": "code",
   "execution_count": null,
   "metadata": {},
   "outputs": [],
   "source": [
    "import random\n",
    "\n",
    "rows = 3\n",
    "cols = 4\n",
    "\n",
    "def main():\n",
    "    values = [[0,0,0,0],[0,0,0,0],[0,0,0,0]]\n",
    "\n",
    "    for r in range(rows):\n",
    "        for c in range(cols):\n",
    "            values[r][c] = random.randint(1,100)\n",
    "    print(values)\n",
    "\n",
    "main()\n"
   ]
  },
  {
   "cell_type": "markdown",
   "metadata": {},
   "source": [
    "TUPLES"
   ]
  },
  {
   "cell_type": "markdown",
   "metadata": {},
   "source": [
    "SINGLE ELEMENT TUPLES"
   ]
  },
  {
   "cell_type": "code",
   "execution_count": null,
   "metadata": {},
   "outputs": [],
   "source": [
    "singe_element_tuple = (5,)\n",
    "print(type(singe_element_tuple))"
   ]
  },
  {
   "cell_type": "code",
   "execution_count": null,
   "metadata": {},
   "outputs": [],
   "source": [
    "my_tuple = 1,2,3,4\n",
    "print(my_tuple)\n",
    "\n",
    "a,b,c = my_tuple\n",
    "print(a)\n",
    "print(b)\n",
    "print(c)"
   ]
  }
 ],
 "metadata": {
  "kernelspec": {
   "display_name": "Python 3",
   "language": "python",
   "name": "python3"
  },
  "language_info": {
   "codemirror_mode": {
    "name": "ipython",
    "version": 3
   },
   "file_extension": ".py",
   "mimetype": "text/x-python",
   "name": "python",
   "nbconvert_exporter": "python",
   "pygments_lexer": "ipython3",
   "version": "3.11.9"
  }
 },
 "nbformat": 4,
 "nbformat_minor": 2
}
