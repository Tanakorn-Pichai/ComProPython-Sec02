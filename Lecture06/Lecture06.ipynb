{
 "cells": [
  {
   "cell_type": "markdown",
   "metadata": {},
   "source": [
    "CREATING AN ACCESSING LISTS"
   ]
  },
  {
   "cell_type": "code",
   "execution_count": 2,
   "metadata": {},
   "outputs": [
    {
     "name": "stdout",
     "output_type": "stream",
     "text": [
      "Prime number:[2, 3, 5, 7, 11, 13, 17, 19, 23, 29]\n",
      "Fifth number:11\n",
      "Fifth number:13\n"
     ]
    }
   ],
   "source": [
    "prime_number = [2,3,5,7, 11, 13, 17, 19, 23, 29]\n",
    "print(f\"Prime number:{prime_number}\")\n",
    "fifth_prime = prime_number[4]\n",
    "print(f\"Fifth number:{fifth_prime}\")\n",
    "fifth_NN = prime_number[5]\n",
    "print(f\"Fifth number:{fifth_NN}\")"
   ]
  },
  {
   "cell_type": "markdown",
   "metadata": {},
   "source": [
    "LIST METHODS"
   ]
  },
  {
   "cell_type": "code",
   "execution_count": 3,
   "metadata": {},
   "outputs": [
    {
     "name": "stdout",
     "output_type": "stream",
     "text": [
      "Fruits after append: ['apple', 'banana', 'cherry', 'mango', 'pineapple']\n"
     ]
    }
   ],
   "source": [
    "fruits =  [\"apple\",\"banana\", \"cherry\"]\n",
    "more_fruits = [\"mango\",\"pineapple\"]\n",
    "for fruit in more_fruits:\n",
    "    fruits.append(fruit)\n",
    "print(f\"Fruits after append: {fruits}\")"
   ]
  },
  {
   "cell_type": "code",
   "execution_count": 12,
   "metadata": {},
   "outputs": [
    {
     "name": "stdout",
     "output_type": "stream",
     "text": [
      "Fruits after inser:['apple', 'strawberry', 'banana', 'cherry', 'blueberry'] \n"
     ]
    }
   ],
   "source": [
    "fruits =  [\"apple\",\"banana\", \"cherry\"]\n",
    "fruits.insert(1, \"strawberry\")\n",
    "fruits.insert(6, \"blueberry\")\n",
    "print(f\"Fruits after inser:{fruits} \")"
   ]
  },
  {
   "cell_type": "code",
   "execution_count": 49,
   "metadata": {},
   "outputs": [
    {
     "name": "stdout",
     "output_type": "stream",
     "text": [
      "Fruits after remove:['banana', 'apple', 'cherry'] \n"
     ]
    }
   ],
   "source": [
    "fruits =  [\"apple\",\"banana\",\"apple\", \"cherry\",\"apple\"]\n",
    "apple = []\n",
    "fruits_index = 0\n",
    "for fruit in fruits:\n",
    "    if fruit == 'apple':\n",
    "        apple.append(fruits_index)\n",
    "    fruits_index = fruits_index + 1\n",
    "# fruits.remove(\"apple\")\n",
    "fruits.pop(apple[0])\n",
    "fruits.pop(apple[-1]-1)\n",
    "print(f\"Fruits after remove:{fruits} \")"
   ]
  },
  {
   "cell_type": "code",
   "execution_count": 13,
   "metadata": {},
   "outputs": [
    {
     "name": "stdout",
     "output_type": "stream",
     "text": [
      "Fruits after inser:['apple', 'cherry', 'banana'] \n"
     ]
    }
   ],
   "source": [
    "fruits =  [\"apple\",\"banana\", \"cherry\"]\n",
    "fruits.pop(1)\n",
    "fruits.append(\"banana\")\n",
    "print(f\"Fruits after inser:{fruits} \")"
   ]
  },
  {
   "cell_type": "code",
   "execution_count": 48,
   "metadata": {},
   "outputs": [
    {
     "name": "stdout",
     "output_type": "stream",
     "text": [
      "'apple' is at index:0\n",
      "'apple' is at index:3\n"
     ]
    },
    {
     "ename": "ValueError",
     "evalue": "'apple' is not in list",
     "output_type": "error",
     "traceback": [
      "\u001b[1;31m---------------------------------------------------------------------------\u001b[0m",
      "\u001b[1;31mValueError\u001b[0m                                Traceback (most recent call last)",
      "Cell \u001b[1;32mIn[48], line 8\u001b[0m\n\u001b[0;32m      5\u001b[0m apple2 \u001b[38;5;241m=\u001b[39m fruits\u001b[38;5;241m.\u001b[39mindex(\u001b[38;5;124m\"\u001b[39m\u001b[38;5;124mapple\u001b[39m\u001b[38;5;124m\"\u001b[39m,apple1\u001b[38;5;241m+\u001b[39m\u001b[38;5;241m1\u001b[39m)\n\u001b[0;32m      6\u001b[0m \u001b[38;5;28mprint\u001b[39m(\u001b[38;5;124mf\u001b[39m\u001b[38;5;124m\"\u001b[39m\u001b[38;5;124m'\u001b[39m\u001b[38;5;124mapple\u001b[39m\u001b[38;5;124m'\u001b[39m\u001b[38;5;124m is at index:\u001b[39m\u001b[38;5;132;01m{\u001b[39;00mapple2\u001b[38;5;132;01m}\u001b[39;00m\u001b[38;5;124m\"\u001b[39m)\n\u001b[1;32m----> 8\u001b[0m apple3 \u001b[38;5;241m=\u001b[39m \u001b[43mfruits\u001b[49m\u001b[38;5;241;43m.\u001b[39;49m\u001b[43mindex\u001b[49m\u001b[43m(\u001b[49m\u001b[38;5;124;43m\"\u001b[39;49m\u001b[38;5;124;43mapple\u001b[39;49m\u001b[38;5;124;43m\"\u001b[39;49m\u001b[43m,\u001b[49m\u001b[43mapple2\u001b[49m\u001b[38;5;241;43m+\u001b[39;49m\u001b[38;5;241;43m1\u001b[39;49m\u001b[43m)\u001b[49m\n\u001b[0;32m      9\u001b[0m \u001b[38;5;28mprint\u001b[39m(\u001b[38;5;124mf\u001b[39m\u001b[38;5;124m\"\u001b[39m\u001b[38;5;124m'\u001b[39m\u001b[38;5;124mapple\u001b[39m\u001b[38;5;124m'\u001b[39m\u001b[38;5;124m is at index:\u001b[39m\u001b[38;5;132;01m{\u001b[39;00mapple3\u001b[38;5;132;01m}\u001b[39;00m\u001b[38;5;124m\"\u001b[39m)\n",
      "\u001b[1;31mValueError\u001b[0m: 'apple' is not in list"
     ]
    }
   ],
   "source": [
    "fruits =  [\"apple\",\"banana\", \"cherry\",\"apple\"]\n",
    "apple1 = fruits.index(\"apple\")\n",
    "print(f\"'apple' is at index:{apple1}\")\n",
    "\n",
    "apple2 = fruits.index(\"apple\",apple1+1)\n",
    "print(f\"'apple' is at index:{apple2}\")\n",
    "\n",
    "apple3 = fruits.index(\"apple\",apple2+1)\n",
    "print(f\"'apple' is at index:{apple3}\")\n"
   ]
  },
  {
   "cell_type": "markdown",
   "metadata": {},
   "source": []
  },
  {
   "cell_type": "code",
   "execution_count": null,
   "metadata": {},
   "outputs": [],
   "source": [
    "nested_list =  [[1,2,3],[4,5,6],[7,8,9]]\n",
    "for sublist in nested_list:\n",
    "    sublist.clear()\n",
    "print(f\"nested list after clear:{nested_list} \")"
   ]
  },
  {
   "cell_type": "code",
   "execution_count": 51,
   "metadata": {},
   "outputs": [
    {
     "name": "stdout",
     "output_type": "stream",
     "text": [
      "nested list after clear:[[2, 3], [4, 6], [7, 8]] \n"
     ]
    }
   ],
   "source": [
    "nested_list =  [[1,2,3],[4,5,6],[7,8,9]]\n",
    "remove_index = 0\n",
    "for sublist in nested_list:\n",
    "    sublist.pop(remove_index)\n",
    "    remove_index = remove_index+1\n",
    "print(f\"nested list after clear:{nested_list} \")"
   ]
  },
  {
   "cell_type": "code",
   "execution_count": 75,
   "metadata": {},
   "outputs": [
    {
     "name": "stdout",
     "output_type": "stream",
     "text": [
      "nested list after clear:[[12, 11], [9, 8, 7], [10, 6, 4], [3, 2, 1]] \n"
     ]
    }
   ],
   "source": [
    "nested_list =  [[1,2,3],[4,10,6],[7,8,9],[11,12]]\n",
    "nested_list.reverse()\n",
    "for sublist in nested_list:\n",
    "    sublist.sort()\n",
    "    sublist.reverse()\n",
    "\n",
    "print(f\"nested list after clear:{nested_list} \")"
   ]
  },
  {
   "cell_type": "code",
   "execution_count": 61,
   "metadata": {},
   "outputs": [
    {
     "name": "stdout",
     "output_type": "stream",
     "text": [
      "['Dr. Strange', 'Ironman', 'Thor', 'Hulk', 'Superman', 'Spiderman']\n",
      "['Dr. Strange', 'Ironman', 'Thor', 'Cpt. America', 'Hulk', 'Superman', 'Spiderman']\n",
      "['Dr. Strange', 'Ironman', 'Thor', 'Cpt. America', 'Hulk', 'Spiderman']\n",
      "['Dr. Strange', 'Ironman', 'Thor', 'Cpt. America', 'Hulk', 'Spiderman', 'Ant Man']\n",
      "['Ant Man', 'Cpt. America', 'Dr. Strange', 'Hulk', 'Ironman', 'Spiderman', 'Thor']\n",
      "['Thor', 'Spiderman', 'Ironman', 'Hulk', 'Dr. Strange', 'Cpt. America', 'Ant Man']\n",
      "['Wonder Women', 'Spiderman', 'Ironman', 'Hulk', 'Dr. Strange', 'Cpt. America', 'Ant Man']\n",
      "['Wonder Women', 'Spiderman', 'Ironman', 'Hulk', 'Dr. Strange', 'Cpt. America', 'Ant Man']\n",
      "['Wonder Women', 'Spiderman', 'Ironman', 'Hulk', 'Dr. Strange', 'Cpt. America', 'Ant Man']\n",
      "['Hanuman', 'Spiderman', 'Ironman', 'Hulk', 'Dr. Strange', 'Cpt. America', 'Ant Man']\n"
     ]
    }
   ],
   "source": [
    "heroes = ['Ironman', 'Thor', 'Hulk', 'Superman', 'Spiderman']\n",
    "h2 = ['Dr. Strange', 'Cpt. America', 'Black Panther', 'Ant Man']\n",
    "\n",
    "heroes.insert(0, h2[0])\n",
    "print(heroes)\n",
    "\n",
    "heroes.insert(heroes.index('Thor') + 1, h2[1])\n",
    "print(heroes)\n",
    "\n",
    "heroes.remove('Superman')\n",
    "print(heroes)\n",
    "\n",
    "heroes.append(h2[3])\n",
    "print(heroes)\n",
    "\n",
    "heroes.sort()\n",
    "print(heroes)\n",
    "\n",
    "heroes.reverse()\n",
    "print(heroes)\n",
    "\n",
    "newheroes = heroes\n",
    "newheroes[0] = 'Wonder Women'\n",
    "print(heroes)\n",
    "\n",
    "copyheroes = [] + heroes\n",
    "print(copyheroes)\n",
    "\n",
    "copyheroes[0] = 'Hanuman'\n",
    "print(heroes)\n",
    "print(copyheroes)\n"
   ]
  },
  {
   "cell_type": "markdown",
   "metadata": {},
   "source": [
    "SLICING LIST"
   ]
  },
  {
   "cell_type": "code",
   "execution_count": 63,
   "metadata": {},
   "outputs": [
    {
     "name": "stdout",
     "output_type": "stream",
     "text": [
      "Slicd data: [10, 15, 20, 25, 30, 35, 40, 45, 50]\n"
     ]
    }
   ],
   "source": [
    "data = list(range(100))\n",
    "slice_data = data[10:51:5]\n",
    "print(f\"Slicd data: {slice_data}\")"
   ]
  },
  {
   "cell_type": "code",
   "execution_count": 65,
   "metadata": {},
   "outputs": [
    {
     "name": "stdout",
     "output_type": "stream",
     "text": [
      "y\n",
      "Shark\n",
      "Sammy\n",
      "hark!\n",
      "ark\n",
      "Shark\n",
      "Shark\n",
      "SmySak\n",
      "Sya\n",
      "Sya\n",
      "!krahS ymmaS\n",
      "!rh ma\n"
     ]
    }
   ],
   "source": [
    "ss = \"Sammy Shark!\"\n",
    "print(ss[4])\n",
    "print(ss[6:11])\n",
    "print(ss[:5])\n",
    "print(ss[7:])\n",
    "print(ss[-4:-1])\n",
    "print(ss[6:11])\n",
    "print(ss[6:11:1])\n",
    "print(ss[0:12:2])\n",
    "print(ss[0:12:4])\n",
    "print(ss[::4])\n",
    "print(ss[::-1])\n",
    "print(ss[::-2])"
   ]
  },
  {
   "cell_type": "code",
   "execution_count": 66,
   "metadata": {},
   "outputs": [
    {
     "name": "stdout",
     "output_type": "stream",
     "text": [
      "Length of the list: 6\n",
      "Sum of all elements: 27\n",
      "Maximum value: 9\n",
      "Minimum value: 1\n",
      "Sorted list: [1, 2, 4, 5, 6, 9]\n",
      "Is any element True? True\n",
      "Are all elements True? False\n",
      "List of characters: ['h', 'e', 'l', 'l', 'o']\n",
      "Reversed list: [6, 5, 1, 9, 2, 4]\n",
      "Enumerated list: [(0, 4), (1, 2), (2, 9), (3, 1), (4, 5), (5, 6)]\n"
     ]
    }
   ],
   "source": [
    "# Example list\n",
    "numbers = [4, 2, 9, 1, 5, 6]\n",
    "\n",
    "length = len(numbers)\n",
    "print(f\"Length of the list: {length}\")\n",
    "\n",
    "total_sum = sum(numbers)\n",
    "print(f\"Sum of all elements: {total_sum}\")\n",
    "\n",
    "max_value = max(numbers)\n",
    "print(f\"Maximum value: {max_value}\")\n",
    "\n",
    "min_value = min(numbers)\n",
    "print(f\"Minimum value: {min_value}\")\n",
    "\n",
    "sorted_numbers = sorted(numbers)\n",
    "print(f\"Sorted list: {sorted_numbers}\")\n",
    "\n",
    "bool_list = [False, True, False]\n",
    "any_true = any(bool_list)\n",
    "print(f\"Is any element True? {any_true}\")\n",
    "\n",
    "all_true = all(bool_list)\n",
    "print(f\"Are all elements True? {all_true}\")\n",
    "\n",
    "string = \"hello\"\n",
    "char_list = list(string)\n",
    "print(f\"List of characters: {char_list}\")\n",
    "\n",
    "reversed_numbers = list(reversed(numbers))\n",
    "print(f\"Reversed list: {reversed_numbers}\")\n",
    "\n",
    "enumerated_numbers = list(enumerate(numbers))\n",
    "print(f\"Enumerated list: {enumerated_numbers}\")\n"
   ]
  },
  {
   "cell_type": "code",
   "execution_count": 67,
   "metadata": {},
   "outputs": [
    {
     "name": "stdout",
     "output_type": "stream",
     "text": [
      "Enter the hour worked by emplopyee1:Enter the hour worked by emplopyee2:Enter the hour worked by emplopyee3:Enter the hour worked by emplopyee4:Enter the hour worked by emplopyee5:Enter the hour worked by emplopyee6:Gross pay for employee1: $13,125.00\n",
      "Gross pay for employee2: $34,125.00\n",
      "Gross pay for employee3: $34,125.00\n",
      "Gross pay for employee4: $44,625.00\n",
      "Gross pay for employee5: $466,200.00\n",
      "Gross pay for employee6: $13,125.00\n"
     ]
    }
   ],
   "source": [
    "num_employees=6\n",
    "def main():\n",
    "    hours = [0] * num_employees\n",
    "\n",
    "    for index in range(num_employees):\n",
    "        print('Enter the hour worked by emplopyee', \\\n",
    "              index+1, ':',sep='',end='')\n",
    "        hours[index]= float(input())\n",
    "    pay_rate = float(input('Enter the hourly pay rate: '))\n",
    "\n",
    "    for index in range(num_employees):\n",
    "        gross_pay = hours[index] * pay_rate\n",
    "        print('Gross pay for employee', index + 1, ': $', \\\n",
    "            format(gross_pay, ',.2f'), sep='')\n",
    "        \n",
    "main()\n",
    "            "
   ]
  },
  {
   "cell_type": "markdown",
   "metadata": {},
   "source": [
    "TWO-DIMENSIONAL LISTS"
   ]
  },
  {
   "cell_type": "code",
   "execution_count": 80,
   "metadata": {},
   "outputs": [
    {
     "name": "stdout",
     "output_type": "stream",
     "text": [
      "1103\n",
      "456\n",
      "789\n"
     ]
    }
   ],
   "source": [
    "matrix = [\n",
    "    [1,2,3],\n",
    "    [4,5,6],\n",
    "    [7,8,9]\n",
    "]\n",
    "matrix[0][1] = 10\n",
    "for row in matrix:\n",
    "    for element in row:\n",
    "        print(element, end=\"\")\n",
    "    print()"
   ]
  },
  {
   "cell_type": "code",
   "execution_count": 82,
   "metadata": {},
   "outputs": [
    {
     "name": "stdout",
     "output_type": "stream",
     "text": [
      "[[85, 79, 49, 39], [96, 4, 23, 92], [38, 66, 52, 79]]\n"
     ]
    }
   ],
   "source": [
    "import random\n",
    "\n",
    "rows = 3\n",
    "cols = 4\n",
    "\n",
    "def main():\n",
    "    values = [[0,0,0,0],[0,0,0,0],[0,0,0,0]]\n",
    "\n",
    "    for r in range(rows):\n",
    "        for c in range(cols):\n",
    "            values[r][c] = random.randint(1,100)\n",
    "    print(values)\n",
    "\n",
    "main()\n"
   ]
  },
  {
   "cell_type": "markdown",
   "metadata": {},
   "source": [
    "TUPLES"
   ]
  },
  {
   "cell_type": "markdown",
   "metadata": {},
   "source": [
    "SINGLE ELEMENT TUPLES"
   ]
  },
  {
   "cell_type": "code",
   "execution_count": 88,
   "metadata": {},
   "outputs": [
    {
     "name": "stdout",
     "output_type": "stream",
     "text": [
      "<class 'tuple'>\n"
     ]
    }
   ],
   "source": [
    "singe_element_tuple = (5,)\n",
    "print(type(singe_element_tuple))"
   ]
  },
  {
   "cell_type": "code",
   "execution_count": 87,
   "metadata": {},
   "outputs": [
    {
     "name": "stdout",
     "output_type": "stream",
     "text": [
      "(1, 2, 3, 4)\n"
     ]
    },
    {
     "ename": "ValueError",
     "evalue": "too many values to unpack (expected 3)",
     "output_type": "error",
     "traceback": [
      "\u001b[1;31m---------------------------------------------------------------------------\u001b[0m",
      "\u001b[1;31mValueError\u001b[0m                                Traceback (most recent call last)",
      "Cell \u001b[1;32mIn[87], line 4\u001b[0m\n\u001b[0;32m      1\u001b[0m my_tuple \u001b[38;5;241m=\u001b[39m \u001b[38;5;241m1\u001b[39m,\u001b[38;5;241m2\u001b[39m,\u001b[38;5;241m3\u001b[39m,\u001b[38;5;241m4\u001b[39m\n\u001b[0;32m      2\u001b[0m \u001b[38;5;28mprint\u001b[39m(my_tuple)\n\u001b[1;32m----> 4\u001b[0m a,b,c \u001b[38;5;241m=\u001b[39m my_tuple\n\u001b[0;32m      5\u001b[0m \u001b[38;5;28mprint\u001b[39m(a)\n\u001b[0;32m      6\u001b[0m \u001b[38;5;28mprint\u001b[39m(b)\n",
      "\u001b[1;31mValueError\u001b[0m: too many values to unpack (expected 3)"
     ]
    }
   ],
   "source": [
    "my_tuple = 1,2,3,4\n",
    "print(my_tuple)\n",
    "\n",
    "a,b,c = my_tuple\n",
    "print(a)\n",
    "print(b)\n",
    "print(c)"
   ]
  }
 ],
 "metadata": {
  "kernelspec": {
   "display_name": "Python 3",
   "language": "python",
   "name": "python3"
  },
  "language_info": {
   "codemirror_mode": {
    "name": "ipython",
    "version": 3
   },
   "file_extension": ".py",
   "mimetype": "text/x-python",
   "name": "python",
   "nbconvert_exporter": "python",
   "pygments_lexer": "ipython3",
   "version": "3.11.0"
  }
 },
 "nbformat": 4,
 "nbformat_minor": 2
}
