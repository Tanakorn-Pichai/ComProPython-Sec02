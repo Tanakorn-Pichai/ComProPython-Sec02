{
 "cells": [
  {
   "cell_type": "markdown",
   "metadata": {},
   "source": [
    "CLASSES AND OBJECTS"
   ]
  },
  {
   "cell_type": "code",
   "execution_count": 1,
   "metadata": {},
   "outputs": [
    {
     "name": "stdout",
     "output_type": "stream",
     "text": [
      "Toyo\n",
      "Corlla\n",
      "2024\n",
      "The engine of the 2024 Toyo Corlla is now running.\n",
      "The engine of the (self.year) Toyo Corlla is now off.\n"
     ]
    }
   ],
   "source": [
    "class car:\n",
    "    wheel = 4\n",
    "\n",
    "    def __init__(self,make,model,year) :\n",
    "        self.make =  make\n",
    "        self.model = model  \n",
    "        self.year =  year\n",
    "\n",
    "    def start_engine (self):\n",
    "        return f\"The engine of the {self. year} {self.make} {self.model} is now running.\"\n",
    "    \n",
    "    def stop_engine (self):\n",
    "        return f\"The engine of the (self.year) {self.make} {self.model} is now off.\"\n",
    "    \n",
    "    \n",
    "my_car = car(\"Toyo\" , \"Corlla\" , 2024)\n",
    "print (my_car.make)\n",
    "\n",
    "print (my_car.model)\n",
    "print (my_car. year) \n",
    "\n",
    "print (my_car.start_engine())\n",
    "print (my_car.stop_engine())\n"
   ]
  },
  {
   "cell_type": "code",
   "execution_count": 4,
   "metadata": {},
   "outputs": [
    {
     "name": "stdout",
     "output_type": "stream",
     "text": [
      "'1984' has been checked out.\n",
      "'1984' has been returned.\n",
      "'To Kill a Mockingbird' has been checked out.\n",
      "'To Kill a Mockingbird' is already checked out.\n"
     ]
    }
   ],
   "source": [
    "\n",
    "class Book:\n",
    "    def __init__(self, title, author, isbn):\n",
    "        self.title = title\n",
    "        self.author = author\n",
    "        self.isbn = isbn\n",
    "        self.is_checked_out = False\n",
    "\n",
    "    def check_out(self):\n",
    "        if not self.is_checked_out:\n",
    "            self.is_checked_out = True\n",
    "            return f\"'{self.title}' has been checked out.\"\n",
    "        else:\n",
    "            return f\"'{self.title}' is already checked out.\"\n",
    "        \n",
    "    def return_book (self):\n",
    "        if self.is_checked_out:\n",
    "            self.is_checked_out = False\n",
    "            return f\"'{self.title}' has been returned.\"\n",
    "        else:\n",
    "            return f\"'{self.title}' was not checked out.\"\n",
    "        \n",
    "\n",
    "book1= Book(\"1984\", \"George Orwell\", \"1234567890\")\n",
    "book2 = Book (\"To Kill a Mockingbird\", \"Harper Lee\", \"0987654321\")\n",
    "\n",
    "print (book1.check_out()) \n",
    "print (book1.return_book())\n",
    "print (book2.check_out())\n",
    "print (book2.check_out())"
   ]
  },
  {
   "cell_type": "markdown",
   "metadata": {},
   "source": [
    "ATTRIBUTE"
   ]
  },
  {
   "cell_type": "code",
   "execution_count": 5,
   "metadata": {},
   "outputs": [
    {
     "name": "stdout",
     "output_type": "stream",
     "text": [
      "Philo is 5 and Mikey is 6.\n",
      "Philo is a mammal\n"
     ]
    }
   ],
   "source": [
    "\n",
    "class Dog:\n",
    "    species = 'mammal' \n",
    "    def __init__(self, name, age):\n",
    "        self.name = name \n",
    "        self.age= age\n",
    "\n",
    "dog1 = Dog(\"Philo\", 5) \n",
    "dog2 = Dog (\"Mikey\", 6)\n",
    "\n",
    "print(\"{} is {} and {} is {}.\"\n",
    ".format(dog1.name, dog1.age, dog2.name, dog2.age))\n",
    "\n",
    "if dog1.species ==\"mammal\":\n",
    "    print(\"{} is a {}\".format(dog1.name, dog1.species))"
   ]
  },
  {
   "cell_type": "markdown",
   "metadata": {},
   "source": [
    "METHODS"
   ]
  },
  {
   "cell_type": "code",
   "execution_count": 6,
   "metadata": {},
   "outputs": [
    {
     "name": "stdout",
     "output_type": "stream",
     "text": [
      "Mikey is 6 years old\n",
      "Mikey says Gruff Gruff\n"
     ]
    }
   ],
   "source": [
    "class Dog:\n",
    "    # Class Attribute\n",
    "    species = \"mammal\"\n",
    "    \n",
    "    # Initializer / Instance Attributes\n",
    "    def __init__(self, name, age):\n",
    "        self.name = name\n",
    "        self.age = age\n",
    "\n",
    "    # Instance method\n",
    "    def description(self):\n",
    "        return \"{} is {} years old\".format(self.name, self.age)\n",
    "\n",
    "    # Instance method\n",
    "    def speak(self, sound):\n",
    "        return \"{} says {}\".format(self.name, sound)\n",
    "\n",
    "# Instantiate the Dog object\n",
    "mikey = Dog(\"Mikey\", 6)\n",
    "\n",
    "# Call our instance methods\n",
    "print(mikey.description())  # Output: Mikey is 6 years old\n",
    "print(mikey.speak(\"Gruff Gruff\"))  # Output: Mikey says Gruff Gruff\n"
   ]
  },
  {
   "cell_type": "code",
   "execution_count": 12,
   "metadata": {},
   "outputs": [
    {
     "name": "stdout",
     "output_type": "stream",
     "text": [
      "Rectangle Area = 20\n",
      "Triangle Area = 10.0\n",
      "Circle Area = 78.5\n",
      "Test Triangle Area 15.0\n",
      "Test Circle Area 78.5\n"
     ]
    },
    {
     "ename": "TypeError",
     "evalue": "Calculate_area.rectangle_area() missing 1 required positional argument: 'h'",
     "output_type": "error",
     "traceback": [
      "\u001b[1;31m---------------------------------------------------------------------------\u001b[0m",
      "\u001b[1;31mTypeError\u001b[0m                                 Traceback (most recent call last)",
      "Cell \u001b[1;32mIn[12], line 29\u001b[0m\n\u001b[0;32m     27\u001b[0m \u001b[38;5;28mprint\u001b[39m(\u001b[38;5;124m'\u001b[39m\u001b[38;5;124mTest Triangle Area\u001b[39m\u001b[38;5;124m'\u001b[39m, Calculate_area\u001b[38;5;241m.\u001b[39mtriangle_area (\u001b[38;5;241m5\u001b[39m, \u001b[38;5;241m6\u001b[39m))\n\u001b[0;32m     28\u001b[0m \u001b[38;5;28mprint\u001b[39m(\u001b[38;5;124m'\u001b[39m\u001b[38;5;124mTest Circle Area\u001b[39m\u001b[38;5;124m'\u001b[39m, Calculate_area\u001b[38;5;241m.\u001b[39mcircle_area(\u001b[38;5;241m5\u001b[39m))\n\u001b[1;32m---> 29\u001b[0m \u001b[38;5;28mprint\u001b[39m(\u001b[38;5;124m'\u001b[39m\u001b[38;5;124mTest Rectangle Area\u001b[39m\u001b[38;5;124m'\u001b[39m, \u001b[43mCalculate_area\u001b[49m\u001b[38;5;241;43m.\u001b[39;49m\u001b[43m \u001b[49m\u001b[43mrectangle_area\u001b[49m\u001b[43m \u001b[49m\u001b[43m(\u001b[49m\u001b[38;5;241;43m5\u001b[39;49m\u001b[43m,\u001b[49m\u001b[43m \u001b[49m\u001b[38;5;241;43m6\u001b[39;49m\u001b[43m)\u001b[49m)\n",
      "\u001b[1;31mTypeError\u001b[0m: Calculate_area.rectangle_area() missing 1 required positional argument: 'h'"
     ]
    }
   ],
   "source": [
    "class Calculate_area:\n",
    "    # Instance Method\n",
    "    def rectangle_area(self, w, h):\n",
    "        return w * h\n",
    "    \n",
    "    @classmethod\n",
    "    def triangle_area(cls, b, h):\n",
    "        return 0.5 * b * h\n",
    "    \n",
    "    @staticmethod\n",
    "    def circle_area(r):\n",
    "        return 3.14 * r * r\n",
    "\n",
    "# Creating an object of the class\n",
    "cal = Calculate_area()\n",
    "\n",
    "# Calculating areas\n",
    "cal_rec = cal.rectangle_area(4, 5)\n",
    "cal_tri = cal.triangle_area(4, 5)\n",
    "cal_circle = cal.circle_area(5)\n",
    "\n",
    "# Printing the results\n",
    "print('Rectangle Area =', cal_rec)\n",
    "print('Triangle Area =', cal_tri)\n",
    "print('Circle Area =', cal_circle)\n",
    "\n",
    "print('Test Triangle Area', Calculate_area.triangle_area (5, 6))\n",
    "print('Test Circle Area', Calculate_area.circle_area(5))\n",
    "print('Test Rectangle Area', Calculate_area. rectangle_area (5, 6))"
   ]
  },
  {
   "cell_type": "code",
   "execution_count": 9,
   "metadata": {},
   "outputs": [
    {
     "name": "stdout",
     "output_type": "stream",
     "text": [
      "Jantra 80\n",
      "Name: Jantra, Total score: 80\n"
     ]
    }
   ],
   "source": [
    "class StudentTest:\n",
    "    def __init__(self, name, score1, score2, score3):\n",
    "        self.name = name\n",
    "        self.score1 = score1\n",
    "        self.score2 = score2\n",
    "        self.score3 = score3\n",
    "\n",
    "    def sumScore(self):\n",
    "        return self.score1 + self.score2 + self.score3\n",
    "\n",
    "    def __str__(self):\n",
    "        return 'Name: {}, Total score: {}'.format(self.name, self.sumScore())\n",
    "\n",
    "# Creating an instance of StudentTest\n",
    "std1 = StudentTest('Jantra', 20, 35, 25)\n",
    "\n",
    "# Printing the student's name and total score\n",
    "print(std1.name, std1.sumScore())\n",
    "print(std1)\n"
   ]
  },
  {
   "cell_type": "markdown",
   "metadata": {},
   "source": [
    "INHERITANCE"
   ]
  },
  {
   "cell_type": "code",
   "execution_count": 10,
   "metadata": {},
   "outputs": [
    {
     "name": "stdout",
     "output_type": "stream",
     "text": [
      "Buddy says woof!\n",
      "Whiskers says meow!\n"
     ]
    }
   ],
   "source": [
    "class Animal:\n",
    "    def __init__(self, name):\n",
    "        self.name = name  # Fixing the assignment\n",
    "\n",
    "    def speak(self):\n",
    "        return \"Some sound\"  # Generic sound for an animal\n",
    "\n",
    "\n",
    "class Dog(Animal):\n",
    "    def speak(self):\n",
    "        return f\"{self.name} says woof!\"\n",
    "\n",
    "\n",
    "class Cat(Animal):\n",
    "    def speak(self):\n",
    "        return f\"{self.name} says meow!\"\n",
    "\n",
    "\n",
    "# Creating objects of child classes\n",
    "dog = Dog(\"Buddy\")\n",
    "cat = Cat(\"Whiskers\")\n",
    "\n",
    "# Printing the output\n",
    "print(dog.speak())  # Output: Buddy says woof!\n",
    "print(cat.speak())  # Output: Whiskers says meow!\n"
   ]
  },
  {
   "cell_type": "code",
   "execution_count": 11,
   "metadata": {},
   "outputs": [
    {
     "name": "stdout",
     "output_type": "stream",
     "text": [
      "mammal\n",
      "Dog Age is 15\n",
      "reptile\n",
      "Dog Age is 20\n"
     ]
    }
   ],
   "source": [
    "class Dog:\n",
    "    species = 'mammal'  # Correcting assignment of species\n",
    "\n",
    "    def calAge(self, age):\n",
    "        print('Dog Age is {}'.format(age * 3))  # Fixing age calculation\n",
    "\n",
    "\n",
    "class SomeBreed(Dog):\n",
    "    pass\n",
    "\n",
    "\n",
    "class SomeOtherBreed(Dog):\n",
    "    species = 'reptile'  # Correcting assignment of species\n",
    "\n",
    "    def calAge(self, age):\n",
    "        print('Dog Age is {}'.format(age * 4))  # Overriding age calculation for this breed\n",
    "\n",
    "\n",
    "# Creating instances of the classes\n",
    "frank = SomeBreed()\n",
    "print(frank.species)  # Output: mammal\n",
    "frank.calAge(5)  # Output: Dog Age is 15\n",
    "\n",
    "beans = SomeOtherBreed()\n",
    "print(beans.species)  # Output: reptile\n",
    "beans.calAge(5)  # Output: Dog Age is 20\n"
   ]
  },
  {
   "cell_type": "markdown",
   "metadata": {},
   "source": [
    "POLYMORPHISM"
   ]
  },
  {
   "cell_type": "code",
   "execution_count": 13,
   "metadata": {},
   "outputs": [
    {
     "name": "stdout",
     "output_type": "stream",
     "text": [
      "Woof!\n",
      "Meow!\n"
     ]
    }
   ],
   "source": [
    "class Animal:\n",
    "    def speak(self):\n",
    "        raise NotImplementedError(\"Subclass must implement abstract method\")\n",
    "\n",
    "\n",
    "class Dog(Animal):\n",
    "    def speak(self):\n",
    "        return \"Woof!\"\n",
    "\n",
    "\n",
    "class Cat(Animal):\n",
    "    def speak(self):\n",
    "        return \"Meow!\"\n",
    "\n",
    "\n",
    "# Polymorphism in action\n",
    "def make_animal_speak(animal):\n",
    "    print(animal.speak())\n",
    "\n",
    "\n",
    "# Creating instances of Dog and Cat\n",
    "dog = Dog()\n",
    "cat = Cat()\n",
    "\n",
    "# Making them speak\n",
    "make_animal_speak(dog)  # Output: Woof!\n",
    "make_animal_speak(cat)  # Output: Meow!"
   ]
  },
  {
   "cell_type": "code",
   "execution_count": 14,
   "metadata": {},
   "outputs": [
    {
     "name": "stdout",
     "output_type": "stream",
     "text": [
      "Area: 200\n",
      "Area: 78.53981633974483\n"
     ]
    }
   ],
   "source": [
    "class Shape:\n",
    "    def area(self):\n",
    "        raise NotImplementedError(\"Subclass must implement abstract method\")\n",
    "\n",
    "\n",
    "class Rectangle(Shape):\n",
    "    def __init__(self, width, height):\n",
    "        self.width = width  # Correcting assignment\n",
    "        self.height = height\n",
    "\n",
    "    def area(self):\n",
    "        return self.width * self.height  # Correcting the multiplication operator\n",
    "\n",
    "\n",
    "class Circle(Shape):\n",
    "    def __init__(self, radius):\n",
    "        self.radius = radius  # Correcting assignment\n",
    "\n",
    "    def area(self):\n",
    "        import math\n",
    "        return math.pi * (self.radius ** 2)  # Correcting the area calculation for circle\n",
    "\n",
    "\n",
    "# List of different shapes\n",
    "shapes = [Rectangle(10, 20), Circle(5)]\n",
    "\n",
    "# Calculating and printing the area of each shape\n",
    "for shape in shapes:\n",
    "    print(f\"Area: {shape.area()}\")  # Correcting f-string formatting\n"
   ]
  },
  {
   "cell_type": "markdown",
   "metadata": {},
   "source": [
    "ENCAPSULATION"
   ]
  },
  {
   "cell_type": "code",
   "execution_count": 15,
   "metadata": {},
   "outputs": [
    {
     "name": "stdout",
     "output_type": "stream",
     "text": [
      "Peter\n",
      "45\n"
     ]
    },
    {
     "ename": "AttributeError",
     "evalue": "'empolyee' object has no attribute '__salary'",
     "output_type": "error",
     "traceback": [
      "\u001b[1;31m---------------------------------------------------------------------------\u001b[0m",
      "\u001b[1;31mAttributeError\u001b[0m                            Traceback (most recent call last)",
      "Cell \u001b[1;32mIn[15], line 9\u001b[0m\n\u001b[0;32m      7\u001b[0m \u001b[38;5;28mprint\u001b[39m(object1\u001b[38;5;241m.\u001b[39mname)\n\u001b[0;32m      8\u001b[0m \u001b[38;5;28mprint\u001b[39m(object1\u001b[38;5;241m.\u001b[39m_age)\n\u001b[1;32m----> 9\u001b[0m \u001b[38;5;28mprint\u001b[39m(\u001b[43mobject1\u001b[49m\u001b[38;5;241;43m.\u001b[39;49m\u001b[43m__salary\u001b[49m)\n",
      "\u001b[1;31mAttributeError\u001b[0m: 'empolyee' object has no attribute '__salary'"
     ]
    }
   ],
   "source": [
    "class empolyee(object):\n",
    "    def __init__(self):\n",
    "        self.name = 'Peter'\n",
    "        self._age = 45\n",
    "        self.__salary = 35000\n",
    "object1 = empolyee()\n",
    "print(object1.name)\n",
    "print(object1._age)\n",
    "print(object1.__salary)"
   ]
  },
  {
   "cell_type": "code",
   "execution_count": 18,
   "metadata": {},
   "outputs": [
    {
     "name": "stdout",
     "output_type": "stream",
     "text": [
      "Earning is: 30000\n",
      "Earning is: 30000\n",
      "Earning is: 15000\n"
     ]
    }
   ],
   "source": [
    "class Employee:\n",
    "    def __init__(self):  \n",
    "        self.__maxearn = 30000  \n",
    "\n",
    "    def earn(self):\n",
    "        print(\"Earning is: {}\".format(self.__maxearn))  \n",
    "\n",
    "    def set_maxearn(self, earn):  \n",
    "        self.__maxearn = earn\n",
    "\n",
    "\n",
    "\n",
    "emp1 = Employee()\n",
    "\n",
    "emp1.earn()  \n",
    "\n",
    "emp1.__maxearn = 10000\n",
    "emp1.earn() \n",
    "\n",
    "\n",
    "\n",
    "\n",
    "emp1.set_maxearn(15000)  \n",
    "emp1.earn()  \n",
    "\n"
   ]
  },
  {
   "cell_type": "markdown",
   "metadata": {},
   "source": [
    "ABSTRACTION"
   ]
  },
  {
   "cell_type": "code",
   "execution_count": 19,
   "metadata": {},
   "outputs": [
    {
     "name": "stdout",
     "output_type": "stream",
     "text": [
      "emp_id is 12345\n"
     ]
    }
   ],
   "source": [
    "from abc import ABC, abstractmethod\n",
    "\n",
    "class Employee(ABC):\n",
    "    @abstractmethod\n",
    "    def emp_id(self, id, name, age, salary):\n",
    "        pass\n",
    "\n",
    "\n",
    "class ChildEmployee1(Employee):\n",
    "    def emp_id(self, id, name=None, age=None, salary=None):  # Adding optional parameters\n",
    "        print(f\"emp_id is {id}\")\n",
    "\n",
    "\n",
    "emp1 = ChildEmployee1()\n",
    "emp1.emp_id(12345)  \n"
   ]
  },
  {
   "cell_type": "code",
   "execution_count": 20,
   "metadata": {},
   "outputs": [
    {
     "name": "stdout",
     "output_type": "stream",
     "text": [
      "We are inside TestClass task\n",
      "Passed value: 100\n",
      "We are inside ExampleClass task\n",
      "Passed value: 200\n",
      "test_obj is instance of Absclass? True\n",
      "example_obj is instance of Absclass? True\n"
     ]
    }
   ],
   "source": [
    "from abc import ABC, abstractmethod\n",
    "\n",
    "class Absclass(ABC):\n",
    "    def print(self, x):\n",
    "        print(\"Passed value:\", x)\n",
    "\n",
    "    @abstractmethod\n",
    "    def task(self):\n",
    "        pass  # Abstract method should not have an implementation\n",
    "\n",
    "\n",
    "class TestClass(Absclass):\n",
    "    def task(self):\n",
    "        print(\"We are inside TestClass task\")\n",
    "\n",
    "\n",
    "class ExampleClass(Absclass):\n",
    "    def task(self):\n",
    "        print(\"We are inside ExampleClass task\")\n",
    "\n",
    "\n",
    "# Object of TestClass created\n",
    "test_obj = TestClass()  # Correcting the object creation\n",
    "test_obj.task()         # Output: We are inside TestClass task\n",
    "test_obj.print(100)     # Output: Passed value: 100\n",
    "\n",
    "# Object of ExampleClass created\n",
    "example_obj = ExampleClass()  # Correcting the object creation\n",
    "example_obj.task()            # Output: We are inside ExampleClass task\n",
    "example_obj.print(200)        # Output: Passed value: 200\n",
    "\n",
    "# Checking if objects are instances of Absclass\n",
    "print(\"test_obj is instance of Absclass?\", isinstance(test_obj, Absclass))  # Output: True\n",
    "print(\"example_obj is instance of Absclass?\", isinstance(example_obj, Absclass))  # Output: True\n"
   ]
  },
  {
   "cell_type": "code",
   "execution_count": 21,
   "metadata": {},
   "outputs": [
    {
     "name": "stdout",
     "output_type": "stream",
     "text": [
      "mammal\n",
      "Dog Age is 15\n",
      "reptile\n",
      "Dog Age is 20\n"
     ]
    }
   ],
   "source": [
    "class Dog:\n",
    "    species = 'mammal'  # Correcting assignment of species\n",
    "\n",
    "    def calAge(self, age):\n",
    "        print('Dog Age is {}'.format(age * 3))  # Fixing the age calculation\n",
    "\n",
    "\n",
    "class SomeBreed(Dog):\n",
    "    pass\n",
    "\n",
    "\n",
    "class SomeOtherBreed(Dog):\n",
    "    species = 'reptile'  # Correcting assignment of species\n",
    "\n",
    "    def calAge(self, age):\n",
    "        print('Dog Age is {}'.format(age * 4))  # Overriding age calculation for this breed\n",
    "\n",
    "\n",
    "# Creating instances of the classes\n",
    "frank = SomeBreed()\n",
    "print(frank.species)  # Output: mammal\n",
    "frank.calAge(5)  # Output: Dog Age is 15\n",
    "\n",
    "beans = SomeOtherBreed()  # Correcting the object creation\n",
    "print(beans.species)  # Output: reptile\n",
    "beans.calAge(5)  # Output: Dog Age is 20\n"
   ]
  }
 ],
 "metadata": {
  "kernelspec": {
   "display_name": "Python 3",
   "language": "python",
   "name": "python3"
  },
  "language_info": {
   "codemirror_mode": {
    "name": "ipython",
    "version": 3
   },
   "file_extension": ".py",
   "mimetype": "text/x-python",
   "name": "python",
   "nbconvert_exporter": "python",
   "pygments_lexer": "ipython3",
   "version": "3.11.5"
  }
 },
 "nbformat": 4,
 "nbformat_minor": 2
}
